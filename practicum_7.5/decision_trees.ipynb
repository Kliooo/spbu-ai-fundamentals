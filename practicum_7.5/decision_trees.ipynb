{
 "cells": [
  {
   "cell_type": "markdown",
   "metadata": {
    "id": "SoWTnBQpuc6s"
   },
   "source": [
    "# Деревья решений \n",
    "В этом задании предстоит реализовать очень полезный метод классификации - дерево решений. \n",
    "\n",
    "Одной из его особенностей является возможность объяснить в человекочитаемой форме, почему мы отнесли объект к определенному классу. Эта особенность позволяет использовать деревья решений для создания систем, которые могут подсказывать специалистам, на что именно стоит обратить внимание при принятии решений. Кроме того, этот метод часто используется в случаях, когда интерпретируемость модели имеет большое значение, например, в чувствительных задачах "
   ]
  },
  {
   "cell_type": "code",
   "execution_count": null,
   "metadata": {
    "executionInfo": {
     "elapsed": 1316,
     "status": "ok",
     "timestamp": 1680806803375,
     "user": {
      "displayName": "Анастасия Никольская",
      "userId": "05163973069761496365"
     },
     "user_tz": -180
    },
    "id": "6B-GvTsIuc6v"
   },
   "outputs": [],
   "source": [
    "import numpy as np\n",
    "import pandas\n",
    "import random\n",
    "import matplotlib.pyplot as plt\n",
    "import matplotlib"
   ]
  },
  {
   "cell_type": "markdown",
   "metadata": {
    "id": "3kt1bHk6_QGC"
   },
   "source": [
    "Основная идея любого алгоритма дерева решений заключается в следующем: \n",
    "1. Выберите лучший атрибут, используя меры выбора атрибута (ASM), чтобы разделить примеры. \n",
    "2.  Сделайте этот атрибут узлом решения и разбейте набор данных на более мелкие подмножества. \n",
    "3. Начните построение дерева, рекурсивно повторяя этот процесс для каждого дочернего элемента, пока не совпадет одно из условий:\n",
    "   1. Все кортежи принадлежат одному и тому же значению атрибута. \n",
    "   2. Оставшихся атрибутов больше нет. \n",
    "   3. Больше нет примеров"
   ]
  },
  {
   "cell_type": "markdown",
   "metadata": {
    "id": "g66ZUCx6uc61"
   },
   "source": [
    "## Использование различных моделей"
   ]
  },
  {
   "cell_type": "markdown",
   "metadata": {
    "id": "gyzOqJ6Wuc61"
   },
   "source": [
    "Протестируем решение на датасетах [mushrooms](https://www.kaggle.com/datasets/uciml/mushroom-classification) и diabetes?.\n",
    "1. Выполним загрузку и предобработку данных.\n",
    "2. Разобьем данные на тренировочный и валидационный набор для оценки точности работы алгоритма.\n",
    "3. Посчитаем метрики для различных параметров построения дерева"
   ]
  },
  {
   "cell_type": "code",
   "execution_count": null,
   "metadata": {
    "executionInfo": {
     "elapsed": 630,
     "status": "ok",
     "timestamp": 1680816418907,
     "user": {
      "displayName": "Анастасия Никольская",
      "userId": "05163973069761496365"
     },
     "user_tz": -180
    },
    "id": "Fc82bGsZuc61"
   },
   "outputs": [],
   "source": [
    "from sklearn.metrics import accuracy_score, recall_score, precision_score\n",
    "import yaml\n",
    "import numpy as np\n",
    "import matplotlib.pyplot as plt\n",
    "from matplotlib.colors import ListedColormap\n",
    "from sklearn.model_selection import train_test_split\n",
    "from sklearn.preprocessing import StandardScaler\n",
    "from sklearn.pipeline import make_pipeline\n",
    "from sklearn.datasets import make_moons, make_circles, make_classification\n",
    "from sklearn.discriminant_analysis import QuadraticDiscriminantAnalysis\n",
    "from sklearn.inspection import DecisionBoundaryDisplay\n",
    "\n",
    "from sklearn.linear_model import LogisticRegression\n",
    "import pandas as pd\n",
    "from sklearn.tree import DecisionTreeClassifier, plot_tree\n",
    "from sklearn.model_selection import train_test_split\n",
    "from sklearn import metrics"
   ]
  },
  {
   "cell_type": "code",
   "execution_count": null,
   "metadata": {},
   "outputs": [],
   "source": [
    "with open('../config.yaml', 'r') as f:\n",
    "    cfg = yaml.safe_load(f)"
   ]
  },
  {
   "cell_type": "markdown",
   "metadata": {},
   "source": [
    "Начнем с WDBC. В этом датасете хранятся геометрические и прочие внешние признаки опухолей (вероятно, полученные из МРТ). Опухоли будут быть доброкачественными (benign = B) и злокачественными (malignant = M). Задача состоит в определении типа опухоли по данным признакам"
   ]
  },
  {
   "cell_type": "code",
   "execution_count": null,
   "metadata": {
    "executionInfo": {
     "elapsed": 177,
     "status": "ok",
     "timestamp": 1680817825094,
     "user": {
      "displayName": "Анастасия Никольская",
      "userId": "05163973069761496365"
     },
     "user_tz": -180
    },
    "id": "5E0hcqBYW-qU"
   },
   "outputs": [],
   "source": [
    "df = pd.read_csv(cfg[\"classification\"][\"wdbc\"])\n",
    "df.head()"
   ]
  },
  {
   "cell_type": "markdown",
   "metadata": {},
   "source": [
    "Как обычно, отбрасываем идентификатор"
   ]
  },
  {
   "cell_type": "code",
   "execution_count": null,
   "metadata": {
    "colab": {
     "base_uri": "https://localhost:8080/",
     "height": 351
    },
    "executionInfo": {
     "elapsed": 3,
     "status": "ok",
     "timestamp": 1680817825315,
     "user": {
      "displayName": "Анастасия Никольская",
      "userId": "05163973069761496365"
     },
     "user_tz": -180
    },
    "id": "nJBXS8lMYQQm",
    "outputId": "3a6dbb93-a021-485e-a7a3-cc43f6f25f07"
   },
   "outputs": [],
   "source": [
    "df = df.drop(['id', 'Unnamed: 32'], axis=1)\n",
    "df.head()"
   ]
  },
  {
   "cell_type": "markdown",
   "metadata": {},
   "source": [
    "Трансформируем строковые категории B и M в числовые 0 и 1, после чего разделяем признаки и таргет, который будем предсказывать. Это дает нам датафреймы X и y соответственно."
   ]
  },
  {
   "cell_type": "code",
   "execution_count": null,
   "metadata": {},
   "outputs": [],
   "source": [
    "df['diagnosis'] = df['diagnosis'].replace({'B': 0, 'M': 1}).astype(int)\n",
    "target = 'diagnosis'\n",
    "features = list(df.columns)\n",
    "features.remove('diagnosis')\n",
    "features"
   ]
  },
  {
   "cell_type": "code",
   "execution_count": null,
   "metadata": {
    "executionInfo": {
     "elapsed": 3,
     "status": "ok",
     "timestamp": 1680817826503,
     "user": {
      "displayName": "Анастасия Никольская",
      "userId": "05163973069761496365"
     },
     "user_tz": -180
    },
    "id": "t6WtieeIYQVu"
   },
   "outputs": [],
   "source": [
    "X_diagnosis = df[features]\n",
    "y_diagnosis = df[[target]]"
   ]
  },
  {
   "cell_type": "markdown",
   "metadata": {},
   "source": [
    "Рассмотрим теперь датасет mushrooms. В нем содержатся геометрические и прочие внешние признаки грибов, которые классифицируются на съедобные и ядовитые. Наша задача состоит в подобной классификации по данным признакам"
   ]
  },
  {
   "cell_type": "code",
   "execution_count": null,
   "metadata": {},
   "outputs": [],
   "source": [
    "df = pd.read_csv(cfg[\"classification\"][\"mushrooms\"])\n",
    "target = 'class'\n",
    "features = list(df.columns)\n",
    "features.remove(target)\n",
    "X_mushroom = df[features]\n",
    "y_mushroom = df[[target]]\n",
    "X_mushroom.head()"
   ]
  },
  {
   "cell_type": "markdown",
   "metadata": {},
   "source": [
    "**Задание**: Проведите краткий EDA. Есть ли выбросы в данных, как связаны столбцы? Хватит 2-3 графиков или таблиц (но можно больше). Какие есть типы признаков в этом датасете?"
   ]
  },
  {
   "cell_type": "code",
   "execution_count": null,
   "metadata": {},
   "outputs": [],
   "source": [
    "import pandas as pd\n",
    "import numpy as np\n",
    "import math\n",
    "import seaborn as sns\n",
    "import matplotlib.pyplot as plt\n",
    "from scipy.stats import chi2_contingency\n",
    "\n",
    "# Распределение классов\n",
    "plt.figure(figsize=(6, 4))\n",
    "sns.countplot(data=df, x=\"class\", hue=\"class\", palette=\"Set2\", legend=False)\n",
    "plt.title(\"Распределение съедобных и ядовитых грибов\")\n",
    "plt.xlabel(\"Класс (e = съедобный, p = ядовитый)\")\n",
    "plt.ylabel(\"Количество\")\n",
    "plt.tight_layout()\n",
    "plt.show()\n",
    "\n",
    "# Тепловая карта\n",
    "def cramers_v(x, y):\n",
    "    confusion_matrix = pd.crosstab(x, y)\n",
    "    if confusion_matrix.shape[0] == 1 or confusion_matrix.shape[1] == 1:\n",
    "        return np.nan  # нельзя вычислить Cramér's V\n",
    "    try:\n",
    "        chi2 = chi2_contingency(confusion_matrix)[0]\n",
    "        n = confusion_matrix.sum().sum()\n",
    "        phi2 = chi2 / n\n",
    "        r, k = confusion_matrix.shape\n",
    "        phi2corr = max(0, phi2 - ((k - 1)*(r - 1)) / (n - 1))\n",
    "        rcorr = r - ((r - 1)**2) / (n - 1)\n",
    "        kcorr = k - ((k - 1)**2) / (n - 1)\n",
    "        denom = min((kcorr - 1), (rcorr - 1))\n",
    "        if denom == 0:\n",
    "            return np.nan\n",
    "        return np.sqrt(phi2corr / denom)\n",
    "    except:\n",
    "        return np.nan\n",
    "\n",
    "unique_counts = df.nunique()\n",
    "df_filtered = df.loc[:, unique_counts > 1]\n",
    "cols = df_filtered.columns\n",
    "\n",
    "df_filtered = df.drop(columns=[\"class\"])\n",
    "df_filtered = df_filtered.loc[:, df_filtered.nunique() > 1]\n",
    "cols = df_filtered.columns\n",
    "\n",
    "cramer_matrix = pd.DataFrame(np.zeros((len(cols), len(cols))), index=cols, columns=cols)\n",
    "for col1 in cols:\n",
    "    for col2 in cols:\n",
    "        cramer_matrix.loc[col1, col2] = cramers_v(df_filtered[col1], df_filtered[col2])\n",
    "\n",
    "plt.figure(figsize=(14, 12))\n",
    "sns.heatmap(cramer_matrix, cmap=\"coolwarm\", annot=False)\n",
    "plt.title(\"Cramér's V между категориальными признаками (без однозначных)\")\n",
    "plt.tight_layout()\n",
    "plt.show()\n",
    "\n",
    "# Матрица графиков для всех признаков\n",
    "df_plot = df\n",
    "cat_features = [col for col in df_plot.columns if col != \"class\"]\n",
    "\n",
    "n_cols = 4\n",
    "n_rows = math.ceil(len(cat_features) / n_cols)\n",
    "plt.figure(figsize=(n_cols * 5, n_rows * 4))\n",
    "\n",
    "for i, col in enumerate(cat_features):\n",
    "    plt.subplot(n_rows, n_cols, i + 1)\n",
    "    sns.countplot(data=df_plot, x=col, hue=\"class\", palette=\"Set2\")\n",
    "    plt.title(f\"{col}\")\n",
    "    plt.xlabel(\"\")\n",
    "    plt.ylabel(\"\")\n",
    "\n",
    "plt.tight_layout()\n",
    "plt.show()"
   ]
  },
  {
   "cell_type": "code",
   "execution_count": null,
   "metadata": {
    "executionInfo": {
     "elapsed": 1325,
     "status": "ok",
     "timestamp": 1680818031534,
     "user": {
      "displayName": "Анастасия Никольская",
      "userId": "05163973069761496365"
     },
     "user_tz": -180
    },
    "id": "dn-vVKmOYZSz"
   },
   "outputs": [],
   "source": [
    "import category_encoders as ce\n",
    "\n",
    "encoder = ce.CountEncoder()\n",
    "X_mushroom = encoder.fit_transform(X_mushroom)\n",
    "X_mushroom.head()"
   ]
  },
  {
   "cell_type": "code",
   "execution_count": null,
   "metadata": {
    "executionInfo": {
     "elapsed": 212,
     "status": "ok",
     "timestamp": 1680818043497,
     "user": {
      "displayName": "Анастасия Никольская",
      "userId": "05163973069761496365"
     },
     "user_tz": -180
    },
    "id": "sk3Q7QwsYZVV"
   },
   "outputs": [],
   "source": [
    "from sklearn.preprocessing import LabelEncoder\n",
    "\n",
    "encoder = LabelEncoder()\n",
    "y_mushroom = encoder.fit_transform(y_mushroom)"
   ]
  },
  {
   "cell_type": "markdown",
   "metadata": {},
   "source": [
    "Теперь перейдем к предсказанию типа опухолей с помощью деревьев решений.\n",
    "\n",
    "Проведем train/test сплит"
   ]
  },
  {
   "cell_type": "code",
   "execution_count": null,
   "metadata": {
    "executionInfo": {
     "elapsed": 1,
     "status": "ok",
     "timestamp": 1680818043497,
     "user": {
      "displayName": "Анастасия Никольская",
      "userId": "05163973069761496365"
     },
     "user_tz": -180
    },
    "id": "-SZHMDm6uc62"
   },
   "outputs": [],
   "source": [
    "X_train, X_test, y_train, y_test = train_test_split(X_diagnosis, y_diagnosis, test_size=0.2, random_state=1)"
   ]
  },
  {
   "cell_type": "code",
   "execution_count": null,
   "metadata": {
    "colab": {
     "base_uri": "https://localhost:8080/"
    },
    "executionInfo": {
     "elapsed": 2,
     "status": "ok",
     "timestamp": 1680818044501,
     "user": {
      "displayName": "Анастасия Никольская",
      "userId": "05163973069761496365"
     },
     "user_tz": -180
    },
    "id": "AbXhL46UB3yh",
    "outputId": "fedbcaec-a570-4850-b48a-cf56aee16ba5"
   },
   "outputs": [],
   "source": [
    "y_train"
   ]
  },
  {
   "cell_type": "markdown",
   "metadata": {
    "id": "BeuhOECPEPrM"
   },
   "source": [
    "Поэкспериментируем с деревом решений из библиотеки sklearn. "
   ]
  },
  {
   "cell_type": "code",
   "execution_count": null,
   "metadata": {
    "colab": {
     "base_uri": "https://localhost:8080/",
     "height": 74
    },
    "executionInfo": {
     "elapsed": 270,
     "status": "ok",
     "timestamp": 1680812130679,
     "user": {
      "displayName": "Анастасия Никольская",
      "userId": "05163973069761496365"
     },
     "user_tz": -180
    },
    "id": "qWiqUbbgCzX1",
    "outputId": "01dfed79-8c0a-46d5-f0c8-64933da4d734"
   },
   "outputs": [],
   "source": [
    "tree = DecisionTreeClassifier(max_depth=5, min_samples_leaf=30)\n",
    "tree.fit(X_train, y_train)"
   ]
  },
  {
   "cell_type": "code",
   "execution_count": null,
   "metadata": {
    "colab": {
     "base_uri": "https://localhost:8080/"
    },
    "executionInfo": {
     "elapsed": 2,
     "status": "ok",
     "timestamp": 1680812130912,
     "user": {
      "displayName": "Анастасия Никольская",
      "userId": "05163973069761496365"
     },
     "user_tz": -180
    },
    "id": "NqYg5XLgB7tn",
    "outputId": "0138fcfd-5375-4002-eff1-e130b420f50a"
   },
   "outputs": [],
   "source": [
    "tree.predict_proba(X_test)[:, 1]"
   ]
  },
  {
   "cell_type": "code",
   "execution_count": null,
   "metadata": {
    "colab": {
     "base_uri": "https://localhost:8080/"
    },
    "executionInfo": {
     "elapsed": 195,
     "status": "ok",
     "timestamp": 1680812132080,
     "user": {
      "displayName": "Анастасия Никольская",
      "userId": "05163973069761496365"
     },
     "user_tz": -180
    },
    "id": "gyDKKZ6s_2Iv",
    "outputId": "910890f1-ba90-4be0-915a-eeb9eb197992"
   },
   "outputs": [],
   "source": [
    "tree.score(X_test, y_test)\n",
    "#metrics.roc_auc_score(y_test, tree.predict_proba(X_test)[:, 1])"
   ]
  },
  {
   "cell_type": "code",
   "execution_count": null,
   "metadata": {
    "colab": {
     "base_uri": "https://localhost:8080/",
     "height": 770
    },
    "executionInfo": {
     "elapsed": 2389,
     "status": "ok",
     "timestamp": 1680812134762,
     "user": {
      "displayName": "Анастасия Никольская",
      "userId": "05163973069761496365"
     },
     "user_tz": -180
    },
    "id": "b3b82rHXEGpt",
    "outputId": "89bf3d8f-d0ce-4e6e-b38f-fdff5b85d152"
   },
   "outputs": [],
   "source": [
    "fig, ax = plt.subplots(1, 1, figsize=(12, 8))\n",
    "plot_tree(tree, ax=ax, filled=True)"
   ]
  },
  {
   "cell_type": "markdown",
   "metadata": {},
   "source": [
    "Рассмотрим другие значения гиперпараметров"
   ]
  },
  {
   "cell_type": "code",
   "execution_count": null,
   "metadata": {
    "executionInfo": {
     "elapsed": 9,
     "status": "ok",
     "timestamp": 1680812134762,
     "user": {
      "displayName": "Анастасия Никольская",
      "userId": "05163973069761496365"
     },
     "user_tz": -180
    },
    "id": "8cHKX6wPYny4"
   },
   "outputs": [],
   "source": [
    "tree_gini = DecisionTreeClassifier(criterion='gini', max_depth=3, random_state=0)\n",
    "fig, ax = plt.subplots(1, 1, figsize=(12, 8))\n",
    "plot_tree(tree_gini.fit(X_train, y_train), ax=ax, filled=True)"
   ]
  },
  {
   "cell_type": "code",
   "execution_count": null,
   "metadata": {
    "colab": {
     "base_uri": "https://localhost:8080/"
    },
    "executionInfo": {
     "elapsed": 4,
     "status": "ok",
     "timestamp": 1680812135105,
     "user": {
      "displayName": "Анастасия Никольская",
      "userId": "05163973069761496365"
     },
     "user_tz": -180
    },
    "id": "QuoOxHSZYwdt",
    "outputId": "001a9d5c-22ee-48c3-a955-0b3a0f64f8a3"
   },
   "outputs": [],
   "source": [
    "print('Training-set accuracy score: {0:0.4f}'. format(tree_gini.score(X_train, y_train)))\n",
    "print('Test-set accuracy score: {0:0.4f}'. format(tree_gini.score(X_test, y_test)))"
   ]
  },
  {
   "cell_type": "markdown",
   "metadata": {},
   "source": [
    "Попробуем вместо Джини использовать энтропию"
   ]
  },
  {
   "cell_type": "code",
   "execution_count": null,
   "metadata": {
    "colab": {
     "base_uri": "https://localhost:8080/",
     "height": 688
    },
    "executionInfo": {
     "elapsed": 1163,
     "status": "ok",
     "timestamp": 1680812136265,
     "user": {
      "displayName": "Анастасия Никольская",
      "userId": "05163973069761496365"
     },
     "user_tz": -180
    },
    "id": "FLjsucJqYwgH",
    "outputId": "d4a9847c-0e58-44d6-d99c-623054fa38f4"
   },
   "outputs": [],
   "source": [
    "from sklearn.tree import DecisionTreeClassifier, plot_tree\n",
    "import matplotlib.pyplot as plt\n",
    "\n",
    "tree_en = DecisionTreeClassifier(criterion='entropy', max_depth=3, random_state=0)\n",
    "tree_en.fit(X_train, y_train)\n",
    "fig, ax = plt.subplots(1, 1, figsize=(12, 8))\n",
    "plot_tree(tree_en, ax=ax, filled=True, feature_names=X_train.columns, class_names=[str(i) for i in tree_en.classes_])"
   ]
  },
  {
   "cell_type": "code",
   "execution_count": null,
   "metadata": {
    "colab": {
     "base_uri": "https://localhost:8080/"
    },
    "executionInfo": {
     "elapsed": 9,
     "status": "ok",
     "timestamp": 1680812136266,
     "user": {
      "displayName": "Анастасия Никольская",
      "userId": "05163973069761496365"
     },
     "user_tz": -180
    },
    "id": "s3WrW3J9Ywit",
    "outputId": "a1e38492-5b67-4936-d2c7-92a1731bf5e8"
   },
   "outputs": [],
   "source": [
    "print('Training set score: {:.4f}'.format(tree_en.score(X_train, y_train)))\n",
    "print('Test set score: {:.4f}'.format(tree_en.score(X_test, y_test)))"
   ]
  },
  {
   "cell_type": "markdown",
   "metadata": {},
   "source": [
    "Перейдем теперь к датасету с грибами"
   ]
  },
  {
   "cell_type": "code",
   "execution_count": null,
   "metadata": {},
   "outputs": [],
   "source": [
    "X_train, X_test, y_train, y_test = train_test_split(X_mushroom, y_mushroom, test_size=0.2, random_state=1)\n",
    "tree = DecisionTreeClassifier(max_depth=5, min_samples_leaf=30)\n",
    "plot_tree(tree.fit(X_train, y_train), filled=True)"
   ]
  },
  {
   "cell_type": "code",
   "execution_count": null,
   "metadata": {},
   "outputs": [],
   "source": [
    "y_pred_train = tree.predict(X_train)\n",
    "y_pred_test = tree.predict(X_test)\n",
    "print('Training-set accuracy score: {0:0.4f}'. format(tree.score(X_train, y_train)))\n",
    "print('Test-set accuracy score: {0:0.4f}'. format(tree.score(X_test, y_test)))"
   ]
  },
  {
   "cell_type": "markdown",
   "metadata": {},
   "source": [
    "Сравним, как разные классификаторы строят границы разделения. Для начала посмотрим на общую картинку, как в зависимости от настроек будет отличаться дерево."
   ]
  },
  {
   "cell_type": "code",
   "execution_count": null,
   "metadata": {
    "colab": {
     "base_uri": "https://localhost:8080/",
     "height": 490
    },
    "executionInfo": {
     "elapsed": 3703,
     "status": "ok",
     "timestamp": 1680816307394,
     "user": {
      "displayName": "Анастасия Никольская",
      "userId": "05163973069761496365"
     },
     "user_tz": -180
    },
    "id": "paqkcELkGWQW",
    "outputId": "bf75f2f0-4ab4-461b-f8d2-daffd66ba1bf"
   },
   "outputs": [],
   "source": [
    "classifiers = {\n",
    "    \"DT_basic_3\": DecisionTreeClassifier(max_depth=3),\n",
    "    \"DT_basic_5_no_min\": DecisionTreeClassifier(max_depth=5),\n",
    "    \"DT_basic_5\": DecisionTreeClassifier(max_depth=5, min_samples_leaf=30),\n",
    "    \"DT_gini_3\": DecisionTreeClassifier(max_depth=3, criterion='gini',  min_samples_leaf=30),\n",
    "    \"DT_gini_5\": DecisionTreeClassifier(max_depth=5, criterion='gini', min_samples_leaf=30),\n",
    "    \"DT_entropy_3\": DecisionTreeClassifier(max_depth=3, criterion='entropy', min_samples_leaf=30),\n",
    "    \"DT_entropy_5\": DecisionTreeClassifier(max_depth=5, criterion='entropy', min_samples_leaf=30),\n",
    "    \"DT_entropy_5_no_min\": DecisionTreeClassifier(max_depth=5, criterion='entropy'),\n",
    "}\n",
    "    \n",
    "\n",
    "columns =  X_diagnosis.columns[:2] \n",
    "columns_mushroom = ['gill-color', 'cap-color']\n",
    "\n",
    "datasets = [\n",
    "    (X_diagnosis[columns].to_numpy(), y_diagnosis.to_numpy()),\n",
    "    (X_mushroom[columns_mushroom].to_numpy(), y_mushroom),\n",
    "    make_moons(noise=0.3, random_state=0),\n",
    "    make_circles(noise=0.2, factor=0.5, random_state=1)\n",
    "]\n"
   ]
  },
  {
   "cell_type": "code",
   "execution_count": null,
   "metadata": {},
   "outputs": [],
   "source": [
    "def set_grid(ax, i, j, x_min, x_max, y_min, y_max):\n",
    "    ax[i][j].set_xlim(x_min, x_max)\n",
    "    ax[i][j].set_ylim(y_min, y_max)\n",
    "    ax[i][j].set_xticks(())\n",
    "    ax[i][j].set_yticks(())"
   ]
  },
  {
   "cell_type": "code",
   "execution_count": null,
   "metadata": {
    "colab": {
     "base_uri": "https://localhost:8080/",
     "height": 699
    },
    "executionInfo": {
     "elapsed": 3629,
     "status": "ok",
     "timestamp": 1680819484929,
     "user": {
      "displayName": "Анастасия Никольская",
      "userId": "05163973069761496365"
     },
     "user_tz": -180
    },
    "id": "QgnU1L1le4O5",
    "outputId": "e256f7d7-6266-4287-a9c2-6756e4ed34b8"
   },
   "outputs": [],
   "source": [
    "fig, ax = plt.subplots(len(datasets), len(classifiers)+1, figsize=(15, 10))\n",
    "\n",
    "for dataset_num, data in enumerate(datasets):\n",
    "    X, y = data\n",
    "    X_train, X_test, y_train, y_test = train_test_split(\n",
    "      X, y, test_size=0.3, random_state=42\n",
    "      )\n",
    "    diff_x = X_train[:, 0].max() - X_train[:, 0].min()\n",
    "    diff_y = X_train[:, 1].max() - X_train[:, 1].min()\n",
    "    x_min, x_max = X_train[:, 0].min() - diff_x*0.1, X_train[:, 0].max() + diff_x*0.1\n",
    "    y_min, y_max = X_train[:, 1].min() - diff_y*0.1, X_train[:, 1].max() + diff_y*0.1\n",
    "\n",
    "\n",
    "    # just plot the dataset first\n",
    "    cm = plt.cm.RdBu\n",
    "    cm_bright = ListedColormap([\"#FF0000\", \"#0000FF\"])\n",
    "    if dataset_num == 0:\n",
    "          ax[dataset_num][0].set_title(\"Input data\")\n",
    "            \n",
    "    # Plot the training points\n",
    "    ax[dataset_num][0].scatter(X_train[:, 0], X_train[:, 1], c=y_train, cmap=cm_bright, edgecolors=\"k\")\n",
    "    # Plot the testing points\n",
    "    ax[dataset_num][0].scatter(\n",
    "      X_test[:, 0], X_test[:, 1], c=y_test, cmap=cm_bright, alpha=0.6, edgecolors=\"k\"\n",
    "    )\n",
    "    set_grid(ax, dataset_num, 0, x_min, x_max, y_min, y_max)\n",
    "    \n",
    "    # iterate over classifiers\n",
    "    for cls_num, (name, clf) in enumerate(classifiers.items(), start=1):\n",
    "        clf = make_pipeline(StandardScaler(), clf)\n",
    "        clf.fit(X_train, y_train)\n",
    "        score = clf.score(X_test, y_test)\n",
    "        DecisionBoundaryDisplay.from_estimator(\n",
    "            clf, X_train, cmap=cm, alpha=0.8, ax=ax[dataset_num][cls_num], eps=0.5\n",
    "        )\n",
    "        \n",
    "        # Plot the training points\n",
    "        #ax[dataset_num][cls_num].scatter(\n",
    "        #    X_train[:, 0], X_train[:, 1], c=y_train, cmap=cm_bright, edgecolors=\"k\"\n",
    "        #)\n",
    "        \n",
    "        # Plot the testing points\n",
    "        ax[dataset_num][cls_num].scatter(\n",
    "            X_test[:, 0],\n",
    "            X_test[:, 1],\n",
    "            c=y_test,\n",
    "            cmap=cm_bright,\n",
    "            edgecolors=\"k\",\n",
    "            alpha=0.6,\n",
    "        )\n",
    "\n",
    "        set_grid(ax, dataset_num, cls_num, x_min, x_max, y_min, y_max)\n",
    "        if dataset_num == 0:\n",
    "            ax[dataset_num][cls_num].set_title(name, fontdict={'fontsize': 10, 'fontweight': 'medium'})\n",
    "            \n",
    "        ax[dataset_num][cls_num].text(\n",
    "            x_max - 0.3,\n",
    "            y_min + 0.3,\n",
    "            (\"%.2f\" % score).lstrip(\"0\"),\n",
    "            size=15,\n",
    "            horizontalalignment=\"right\",\n",
    "        )\n",
    "\n",
    "plt.tight_layout()\n",
    "plt.show()"
   ]
  },
  {
   "cell_type": "markdown",
   "metadata": {},
   "source": [
    "Деревья решений легко переобучаются. В теории, каждая точка набора может сформировать листовую вершину. Поэтому всегда надо аккуратно выбирать гиперпараметры, влияющие на разбиение дерева. Кроме того, деревья чувствительны к обучающе выборке. Даже небольшая ее пертурбация может привести к очень серьезным изменениям в классификаторе."
   ]
  },
  {
   "cell_type": "markdown",
   "metadata": {
    "id": "8prCpgbhh-QT"
   },
   "source": [
    "**Задание**: \n",
    "1) Постройте несколько графиков, чтобы оценить, как будет выглядить разделение плоскости в зависимости от \n",
    "    - минимального количества объектов в листе\n",
    "    - максимальной глубины дерева\n",
    "  К увеличению или уменьшению качества на обучающей выборке приводит увеличение глубины дерева? А на тестовой? \n",
    "2) Постройте несколько графиков, чтобы оценить, как будет выглядить разделение плоскости в зависимости от подвыборки. Выберите из вашего обучающего набора 90% семплов с разными сидами и посмотрите, как поменяются предсказания."
   ]
  },
  {
   "cell_type": "code",
   "execution_count": null,
   "metadata": {},
   "outputs": [],
   "source": [
    "from sklearn.tree import DecisionTreeClassifier\n",
    "from sklearn.model_selection import train_test_split\n",
    "from sklearn.pipeline import make_pipeline\n",
    "from sklearn.preprocessing import StandardScaler\n",
    "from sklearn.metrics import accuracy_score\n",
    "import matplotlib.pyplot as plt\n",
    "from sklearn.datasets import make_moons\n",
    "from matplotlib.colors import ListedColormap\n",
    "from sklearn.inspection import DecisionBoundaryDisplay\n",
    "\n",
    "X, y = make_moons(noise=0.3, random_state=0)\n",
    "X_train, X_test, y_train, y_test = train_test_split(X, y, test_size=0.3, random_state=42)\n",
    "\n",
    "max_depths = [1, 3, 5, 10]\n",
    "min_samples_leafs = [1, 5, 10, 30]\n",
    "\n",
    "fig, ax = plt.subplots(len(max_depths), len(min_samples_leafs), figsize=(15, 10))\n",
    "\n",
    "for i, max_depth in enumerate(max_depths):\n",
    "    for j, min_samples_leaf in enumerate(min_samples_leafs):\n",
    "        \n",
    "        # Обучаем модель\n",
    "        clf = DecisionTreeClassifier(max_depth=max_depth, min_samples_leaf=min_samples_leaf)\n",
    "        clf.fit(X_train, y_train)\n",
    "\n",
    "        # Оценка точности\n",
    "        train_score = accuracy_score(y_train, clf.predict(X_train))\n",
    "        test_score = accuracy_score(y_test, clf.predict(X_test))\n",
    "\n",
    "        cm = plt.cm.RdBu\n",
    "        cm_bright = ListedColormap([\"#FF0000\", \"#0000FF\"])\n",
    "        DecisionBoundaryDisplay.from_estimator(clf, X_train, cmap=cm, alpha=0.8, ax=ax[i][j], eps=0.5)\n",
    "\n",
    "        ax[i][j].scatter(X_train[:, 0], X_train[:, 1], c=y_train, cmap=cm_bright, edgecolors=\"k\", label=\"Train\")\n",
    "        ax[i][j].scatter(X_test[:, 0], X_test[:, 1], c=y_test, cmap=cm_bright, alpha=0.6, edgecolors=\"k\", label=\"Test\")\n",
    "\n",
    "        ax[i][j].set_xlim(X_train[:, 0].min() - 0.1, X_train[:, 0].max() + 0.1)\n",
    "        ax[i][j].set_ylim(X_train[:, 1].min() - 0.1, X_train[:, 1].max() + 0.1)\n",
    "        ax[i][j].set_xticks(())\n",
    "        ax[i][j].set_yticks(())\n",
    "\n",
    "        ax[i][j].set_title(f\"max_depth={max_depth}, min_samples_leaf={min_samples_leaf}\", fontsize=10)\n",
    "        ax[i][j].text(\n",
    "            0.9, 0.1,\n",
    "            f\"Train: {train_score:.2f}\\nTest: {test_score:.2f}\",\n",
    "            size=12,\n",
    "            horizontalalignment=\"right\",\n",
    "            transform=ax[i][j].transAxes\n",
    "        )\n",
    "\n",
    "plt.tight_layout()\n",
    "plt.show()"
   ]
  },
  {
   "cell_type": "code",
   "execution_count": null,
   "metadata": {},
   "outputs": [],
   "source": [
    "n_sids = 5\n",
    "\n",
    "classifiers = {\n",
    "    \"DT_basic_3\": DecisionTreeClassifier(max_depth=3),\n",
    "    \"DT_basic_5_no_min\": DecisionTreeClassifier(max_depth=5),\n",
    "    \"DT_basic_5\": DecisionTreeClassifier(max_depth=5, min_samples_leaf=30),\n",
    "    \"DT_gini_3\": DecisionTreeClassifier(max_depth=3, criterion='gini',  min_samples_leaf=30),\n",
    "    \"DT_gini_5\": DecisionTreeClassifier(max_depth=5, criterion='gini', min_samples_leaf=30),\n",
    "    \"DT_entropy_3\": DecisionTreeClassifier(max_depth=3, criterion='entropy', min_samples_leaf=30),\n",
    "    \"DT_entropy_5\": DecisionTreeClassifier(max_depth=5, criterion='entropy', min_samples_leaf=30),\n",
    "    \"DT_entropy_5_no_min\": DecisionTreeClassifier(max_depth=5, criterion='entropy'),\n",
    "}\n",
    "\n",
    "fig, ax = plt.subplots(n_sids, len(classifiers)+1, figsize=(15, 10))\n",
    "\n",
    "for i, seed in enumerate(range(42, 42 + n_sids)):\n",
    "    X_train_sub, _, y_train_sub, _ = train_test_split(X, y, train_size=0.9, random_state=seed) # Подвыборка 90% данных\n",
    "\n",
    "    # Просто данные\n",
    "    cm_bright = ListedColormap([\"#FF0000\", \"#0000FF\"])\n",
    "    ax[i][0].set_title(f\"Train data (Seed {seed})\")\n",
    "    ax[i][0].scatter(X_train_sub[:, 0], X_train_sub[:, 1], c=y_train_sub, cmap=cm_bright, edgecolors=\"k\")\n",
    "\n",
    "    # Перебор классификаторов\n",
    "    for cls_num, (name, clf) in enumerate(classifiers.items(), start=1):\n",
    "        clf = make_pipeline(StandardScaler(), clf)\n",
    "        clf.fit(X_train_sub, y_train_sub)\n",
    "\n",
    "        DecisionBoundaryDisplay.from_estimator(clf, X_train_sub, cmap=plt.cm.RdBu, alpha=0.8, ax=ax[i][cls_num], eps=0.5) # Разделяющая плоскость\n",
    "\n",
    "        ax[i][cls_num].scatter(X_train_sub[:, 0], X_train_sub[:, 1], c=y_train_sub, cmap=cm_bright, edgecolors=\"k\", label=\"Train\")\n",
    "        ax[i][cls_num].set_xticks(())\n",
    "        ax[i][cls_num].set_yticks(())\n",
    "        ax[i][cls_num].set_title(name, fontsize=10)\n",
    "\n",
    "plt.tight_layout()\n",
    "plt.show()"
   ]
  },
  {
   "cell_type": "markdown",
   "metadata": {},
   "source": [
    "**Задание:**\n",
    "  Для датасета mushrooms сравните, как меняется точность и переобучение для деревьев с разными кодировками признаков. Можете зафиксировать остальные параметры. "
   ]
  },
  {
   "cell_type": "code",
   "execution_count": null,
   "metadata": {},
   "outputs": [],
   "source": [
    "import pandas as pd\n",
    "from sklearn.model_selection import train_test_split\n",
    "from sklearn.tree import DecisionTreeClassifier\n",
    "from sklearn.metrics import accuracy_score\n",
    "from sklearn.preprocessing import OrdinalEncoder\n",
    "\n",
    "# Функция для оценки модели: обучение и вывод метрик\n",
    "def evaluate_model(X, y):\n",
    "    X_train, X_test, y_train, y_test = train_test_split(X, y, test_size=0.3, random_state=42, stratify=y)\n",
    "    clf = DecisionTreeClassifier(random_state=42, max_depth=5)\n",
    "    clf.fit(X_train, y_train)\n",
    "    \n",
    "    train_acc = accuracy_score(y_train, clf.predict(X_train))\n",
    "    test_acc = accuracy_score(y_test, clf.predict(X_test))\n",
    "    overfit = train_acc - test_acc\n",
    "    return train_acc, test_acc, overfit\n",
    "\n",
    "y = df['class']\n",
    "X = df.drop(columns=['class'])\n",
    "\n",
    "# Ordinal Encoding\n",
    "encoder = OrdinalEncoder()\n",
    "X_ord = pd.DataFrame(encoder.fit_transform(X), columns=X.columns)\n",
    "train_acc, test_acc, overfit = evaluate_model(X_ord, y)\n",
    "print(\"Ordinal Encoding:\")\n",
    "print(\"Train Accuracy: {:.3f}\".format(train_acc))\n",
    "print(\"Test Accuracy:  {:.3f}\".format(test_acc))\n",
    "print(\"Overfitting:   {:.3f}\".format(overfit))\n",
    "\n",
    "# One-Hot Encoding\n",
    "X_onehot = pd.get_dummies(X, drop_first=True)\n",
    "train_acc, test_acc, overfit = evaluate_model(X_onehot, y)\n",
    "print(\"\\nOne-Hot Encoding:\")\n",
    "print(\"Train Accuracy: {:.3f}\".format(train_acc))\n",
    "print(\"Test Accuracy:  {:.3f}\".format(test_acc))\n",
    "print(\"Overfitting:   {:.3f}\".format(overfit))"
   ]
  }
 ],
 "metadata": {
  "colab": {
   "provenance": []
  },
  "kernelspec": {
   "display_name": "Python 3",
   "language": "python",
   "name": "python3"
  },
  "language_info": {
   "codemirror_mode": {
    "name": "ipython",
    "version": 3
   },
   "file_extension": ".py",
   "mimetype": "text/x-python",
   "name": "python",
   "nbconvert_exporter": "python",
   "pygments_lexer": "ipython3",
   "version": "3.13.2"
  }
 },
 "nbformat": 4,
 "nbformat_minor": 4
}
