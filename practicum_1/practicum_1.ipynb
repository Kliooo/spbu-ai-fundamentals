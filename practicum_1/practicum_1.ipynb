{
  "metadata": {
    "kernelspec": {
      "name": "python",
      "display_name": "Python (Pyodide)",
      "language": "python"
    },
    "language_info": {
      "codemirror_mode": {
        "name": "python",
        "version": 3
      },
      "file_extension": ".py",
      "mimetype": "text/x-python",
      "name": "python",
      "nbconvert_exporter": "python",
      "pygments_lexer": "ipython3",
      "version": "3.8"
    },
    "interpreter": {
      "hash": "2b3714695f2307aafe7da52bf6e53e38bc5469a267534973be7d21c816457eaf"
    }
  },
  "nbformat_minor": 4,
  "nbformat": 4,
  "cells": [
    {
      "cell_type": "code",
      "source": "import yaml\n\nwith open('../config.yaml', 'r') as f:\n    cfg = yaml.safe_load(f)",
      "metadata": {
        "trusted": true,
        "tags": [],
        "editable": true,
        "slideshow": {
          "slide_type": ""
        }
      },
      "outputs": [],
      "execution_count": null
    },
    {
      "cell_type": "markdown",
      "source": "# Numpy\n\n* Пакет для Python, реализующий многомерные массивы\n* Массивы **статически типизированные**. Тип элементов определяется при создании массива.\n* Массивы эффективно используют память.\n* Методы линейной алгебры в numpy реализованы на C и Fortran, что обеспечивает хорошую производительность.\n* Пакет numpy активно используется в научных проектах по всему миру.",
      "metadata": {}
    },
    {
      "cell_type": "code",
      "source": "import numpy as np",
      "metadata": {
        "trusted": true,
        "tags": [],
        "editable": true,
        "slideshow": {
          "slide_type": ""
        }
      },
      "outputs": [],
      "execution_count": null
    },
    {
      "cell_type": "markdown",
      "source": "## Создание массивов",
      "metadata": {
        "tags": [],
        "editable": true,
        "slideshow": {
          "slide_type": ""
        }
      }
    },
    {
      "cell_type": "markdown",
      "source": "Существует несколько способов создания новых numpy массивов:\n* через списки и кортежи Python\n* используя специальные функции numpy такие, как `arange`, `linspace`, и так далее.\n* вычитывая данные из файлов",
      "metadata": {}
    },
    {
      "cell_type": "markdown",
      "source": "### 1D массивы:",
      "metadata": {}
    },
    {
      "cell_type": "code",
      "source": "a = np.array([0,1,2,3])\na",
      "metadata": {
        "trusted": true,
        "tags": [],
        "editable": true,
        "slideshow": {
          "slide_type": ""
        }
      },
      "outputs": [],
      "execution_count": null
    },
    {
      "cell_type": "code",
      "source": "type(a), a.dtype",
      "metadata": {
        "trusted": true,
        "tags": [],
        "editable": true,
        "slideshow": {
          "slide_type": ""
        }
      },
      "outputs": [],
      "execution_count": null
    },
    {
      "cell_type": "code",
      "source": "a.ndim, a.shape, len(a)",
      "metadata": {
        "trusted": true
      },
      "outputs": [],
      "execution_count": null
    },
    {
      "cell_type": "code",
      "source": "b = np.array((3, 4, 5))\nb",
      "metadata": {
        "trusted": true
      },
      "outputs": [],
      "execution_count": null
    },
    {
      "cell_type": "markdown",
      "source": "В numpy существует множество функций для генерации массивов:",
      "metadata": {}
    },
    {
      "cell_type": "markdown",
      "source": "<p style=\"font-size:16px\"><b>`arange`</p></b>\n\nГенерирует значения в интервале [start, stop) с шагом step. Аналог встроенной функции Python `range`. На уровне типов они, конечно, отличаются. `np.arange` возвращает обычный numpy-массив, в то время как `range` является lazy sequence/lazy iterable и стоит в общем ряду с `list` и `tuple`. Funny fact: `range` не является итератором -- он не \"иссякает\", для него нельзя вызвать `next()` и можно `len()`, но, в отличие от списка, он lazy",
      "metadata": {}
    },
    {
      "cell_type": "code",
      "source": "x = np.arange(0, 10, 1) # аргументы: start, stop, step\ntype(range(10))",
      "metadata": {
        "trusted": true
      },
      "outputs": [],
      "execution_count": null
    },
    {
      "cell_type": "code",
      "source": "x = np.arange(-1, 1, 0.1)\nx",
      "metadata": {
        "trusted": true
      },
      "outputs": [],
      "execution_count": null
    },
    {
      "cell_type": "markdown",
      "source": "<p style=\"font-size:16px\"><b>`linspace` и `logspace`</b></p>\n\n`linspace` Генерирует равномерно распределенные числа, включая конечные точки.\n\n`logspace` То же, но в логарифмической шкале.",
      "metadata": {}
    },
    {
      "cell_type": "code",
      "source": "np.linspace(0, 10, 10) # аргументы: start, stop, число точек",
      "metadata": {
        "trusted": true
      },
      "outputs": [],
      "execution_count": null
    },
    {
      "cell_type": "code",
      "source": "np.logspace(0.1, 1, 4, base=2)",
      "metadata": {
        "trusted": true
      },
      "outputs": [],
      "execution_count": null
    },
    {
      "cell_type": "markdown",
      "source": "<p style=\"font-size:16px\"><b>`zeros`, `ones`, `zeros_like` и `ones_like`</b></p>",
      "metadata": {}
    },
    {
      "cell_type": "code",
      "source": "np.zeros((5,))   # Аргумент должен быть кортежем",
      "metadata": {
        "trusted": true
      },
      "outputs": [],
      "execution_count": null
    },
    {
      "cell_type": "code",
      "source": "a = np.ones((4,))\na",
      "metadata": {
        "trusted": true
      },
      "outputs": [],
      "execution_count": null
    },
    {
      "cell_type": "code",
      "source": "b = np.zeros_like(a)\nb",
      "metadata": {
        "trusted": true
      },
      "outputs": [],
      "execution_count": null
    },
    {
      "cell_type": "code",
      "source": "c = np.ones_like(b)\nc",
      "metadata": {
        "trusted": true
      },
      "outputs": [],
      "execution_count": null
    },
    {
      "cell_type": "markdown",
      "source": "Задание 1. Создайте вектор со значениями от 0 до 65",
      "metadata": {}
    },
    {
      "cell_type": "code",
      "source": "np.arange(0, 66)",
      "metadata": {
        "trusted": true
      },
      "outputs": [],
      "execution_count": null
    },
    {
      "cell_type": "markdown",
      "source": "### Многомерные массивы",
      "metadata": {}
    },
    {
      "cell_type": "code",
      "source": "# Матрица\nm = np.array([[1., 2.], [3., 4.]])\nm",
      "metadata": {
        "trusted": true
      },
      "outputs": [],
      "execution_count": null
    },
    {
      "cell_type": "code",
      "source": "type(m), m.dtype",
      "metadata": {
        "trusted": true
      },
      "outputs": [],
      "execution_count": null
    },
    {
      "cell_type": "code",
      "source": "m.ndim, np.shape(m), len(m), np.size(m)",
      "metadata": {
        "trusted": true
      },
      "outputs": [],
      "execution_count": null
    },
    {
      "cell_type": "markdown",
      "source": "При попытке назначить значение другого типа будет выдана ошибка:",
      "metadata": {}
    },
    {
      "cell_type": "code",
      "source": "m[0,0] = 'hello' ",
      "metadata": {
        "trusted": true
      },
      "outputs": [],
      "execution_count": null
    },
    {
      "cell_type": "markdown",
      "source": "<p style=\"font-size:16px\"><b>`zeros`, `ones`, `zeros_like` и `ones_like`</b></p>",
      "metadata": {}
    },
    {
      "cell_type": "code",
      "source": "a = np.ones((3, 3))\na",
      "metadata": {
        "trusted": true
      },
      "outputs": [],
      "execution_count": null
    },
    {
      "cell_type": "code",
      "source": "b = np.zeros((2, 2))\nb",
      "metadata": {
        "trusted": true
      },
      "outputs": [],
      "execution_count": null
    },
    {
      "cell_type": "markdown",
      "source": "<p style=\"font-size:16px\"><b>Другие функции</b></p>",
      "metadata": {}
    },
    {
      "cell_type": "code",
      "source": "c = np.eye(3) # единичная матрица\nc",
      "metadata": {
        "trusted": true
      },
      "outputs": [],
      "execution_count": null
    },
    {
      "cell_type": "code",
      "source": "d = np.diag(np.arange(4)) # диагональная матрица\nd",
      "metadata": {
        "trusted": true
      },
      "outputs": [],
      "execution_count": null
    },
    {
      "cell_type": "markdown",
      "source": "**Задание**: Создайте матрицу 3х3 со значениями от 0 до 9",
      "metadata": {}
    },
    {
      "cell_type": "code",
      "source": "np.arange(9).reshape((3,3))",
      "metadata": {
        "trusted": true
      },
      "outputs": [],
      "execution_count": null
    },
    {
      "cell_type": "markdown",
      "source": "**Задание**: создайте матрицу 9 на 9, заполните случайными значениями и найдите максимальный, минимальный элемент и среднее значение.",
      "metadata": {}
    },
    {
      "cell_type": "code",
      "source": "matr = np.random.randint(0, 100, size=(9, 9)).reshape(9, 9)\nprint(matr)\nprint(\"max:\", np.max(matr))\nprint(\"min:\", np.min(matr))\nprint(\"average:\", np.mean(matr))",
      "metadata": {
        "trusted": true
      },
      "outputs": [],
      "execution_count": null
    },
    {
      "cell_type": "markdown",
      "source": "## Копирование в NumPy",
      "metadata": {}
    },
    {
      "cell_type": "markdown",
      "source": "Как мы помним, в Python при присваивании не происходит копирование объектов. ",
      "metadata": {}
    },
    {
      "cell_type": "code",
      "source": "m = np.array([[1, 2], [3, 4]])\nm",
      "metadata": {
        "trusted": true
      },
      "outputs": [],
      "execution_count": null
    },
    {
      "cell_type": "code",
      "source": "n = m",
      "metadata": {
        "trusted": true
      },
      "outputs": [],
      "execution_count": null
    },
    {
      "cell_type": "code",
      "source": "# Изменение N меняет M\nn[0, 0] = 10\nn",
      "metadata": {
        "trusted": true
      },
      "outputs": [],
      "execution_count": null
    },
    {
      "cell_type": "code",
      "source": "m",
      "metadata": {
        "trusted": true
      },
      "outputs": [],
      "execution_count": null
    },
    {
      "cell_type": "markdown",
      "source": "Глубокая копия создается в NumPy с помощью функции `copy`:",
      "metadata": {}
    },
    {
      "cell_type": "code",
      "source": "n = np.copy(m)",
      "metadata": {
        "trusted": true
      },
      "outputs": [],
      "execution_count": null
    },
    {
      "cell_type": "code",
      "source": "# теперь при изменении N M остается нетронутым\nn[0,0] = -5\nn",
      "metadata": {
        "trusted": true
      },
      "outputs": [],
      "execution_count": null
    },
    {
      "cell_type": "code",
      "source": "m",
      "metadata": {
        "trusted": true
      },
      "outputs": [],
      "execution_count": null
    },
    {
      "cell_type": "markdown",
      "source": "Какой бы shape ни имел массив, в памяти он хранится как обыкновенный линейный массив. В примере показан C-order хранения многомерного массива (\"укладываем\" массив по строкам \n последний индекс является самым быстрым). Такие массивы называют C-contiguous. Альтернативой является Fortran-order, где массив \"укладывается\" по столбцам \n первый индекс является самым быстрым. Такие массивы называют Fortran-contiguous. Узнать, является ли массив C-contiguous или Fortran-contiguous, мы можем с помощью атрибута flags. В общем случае numpy используется C-order:",
      "metadata": {}
    },
    {
      "cell_type": "code",
      "source": "a = np.array([\n    [1, 2, 3],\n    [4, 5, 6],\n    [7, 8, 9],\n])\na.flags",
      "metadata": {
        "trusted": true
      },
      "outputs": [],
      "execution_count": null
    },
    {
      "cell_type": "code",
      "source": "a = np.array([\n    [1, 4, 7],\n    [2, 5, 8],\n    [3, 6, 9],\n])\na.flags",
      "metadata": {
        "trusted": true
      },
      "outputs": [],
      "execution_count": null
    },
    {
      "cell_type": "markdown",
      "source": "Линейный массив (он же иногда называется буфером), в котором хранятся данные, хранится в атрибуте data. Более конкретно, в нем хранится указатель на первый элемент массива, поэтому работать с ним напрямую мы не можем:",
      "metadata": {}
    },
    {
      "cell_type": "code",
      "source": "a.data",
      "metadata": {
        "trusted": true
      },
      "outputs": [],
      "execution_count": null
    },
    {
      "cell_type": "markdown",
      "source": "Атрибут strides задает шаги в байтах, необходимые для перехода к следующему элементу вдоль того или иного индекса. Например, для двумерного массива типа int16 с shape = (4, 3) и C-contiguous буфером мы получим stride = (3x2, 1x2)",
      "metadata": {}
    },
    {
      "cell_type": "markdown",
      "source": "Numpy старается минимизировать количество копирований массивов, в результате чего многие операции, например slicing и в большинстве случаев reshape, возвращают view (представление) массива, а не его копию. Это становится возможным благодаря модификации shape, strides и указателя на первый элемент массива (то есть data). Помня об этом, всегда можно догадаться, произойдет копирование или будет использоваться view: всегда, когда можно построить массив из исходного путем модификации shape, stride и/или сдвига указателя в data, будет использоваться view. Рассмотрим несколько примеров",
      "metadata": {}
    },
    {
      "cell_type": "code",
      "source": "a = np.array([\n    [0, 1, 2],\n    [3, 4, 5],\n    [6, 7, 8],\n    [9, 10, 11],\n], dtype=np.int16)\na.strides",
      "metadata": {
        "trusted": true
      },
      "outputs": [],
      "execution_count": null
    },
    {
      "cell_type": "markdown",
      "source": "Воспользуемся slicing для взятия каждого второго столбца. Это эквивалентно удвоению stride по второму индексу. Следовательно, будет использоваться view без копирования массива",
      "metadata": {}
    },
    {
      "cell_type": "code",
      "source": "b = a[:, ::2]\nb.strides",
      "metadata": {
        "trusted": true
      },
      "outputs": [],
      "execution_count": null
    },
    {
      "cell_type": "markdown",
      "source": "Проверить, является ли массив view, можно, обратившись к атрибуту base: он равен None для скопированных или вновь созданных массивов и равен исходному массиву для view",
      "metadata": {}
    },
    {
      "cell_type": "code",
      "source": "b.base",
      "metadata": {
        "trusted": true
      },
      "outputs": [],
      "execution_count": null
    },
    {
      "cell_type": "code",
      "source": "b.copy().base is None",
      "metadata": {
        "trusted": true
      },
      "outputs": [],
      "execution_count": null
    },
    {
      "cell_type": "markdown",
      "source": "Аналогично можно убедиться, что slicing для взятие каждой второй строки, начиная со второй, так же даст view без какого-либо копирования. В данном случае происходит удвоение stride по первому индексу и сдвиг указателя вперед на один элемент",
      "metadata": {}
    },
    {
      "cell_type": "code",
      "source": "b = a[1::2, :]\nb.strides",
      "metadata": {
        "trusted": true
      },
      "outputs": [],
      "execution_count": null
    },
    {
      "cell_type": "code",
      "source": "b.base",
      "metadata": {
        "trusted": true
      },
      "outputs": [],
      "execution_count": null
    },
    {
      "cell_type": "markdown",
      "source": "Из этих примеров становится ясно, что все операции slicing-а приводят к появлению view. Более сложная индексация, которую мы рассмотрим ниже, уже приведет к копированию",
      "metadata": {}
    },
    {
      "cell_type": "markdown",
      "source": "\nПри изменении представления меняется и изначальный массив:",
      "metadata": {}
    },
    {
      "cell_type": "code",
      "source": "a = np.arange(10)\na",
      "metadata": {
        "trusted": true
      },
      "outputs": [],
      "execution_count": null
    },
    {
      "cell_type": "code",
      "source": "b = a[::2]\nb",
      "metadata": {
        "trusted": true
      },
      "outputs": [],
      "execution_count": null
    },
    {
      "cell_type": "code",
      "source": "b[0] = 12\nb",
      "metadata": {
        "trusted": true
      },
      "outputs": [],
      "execution_count": null
    },
    {
      "cell_type": "code",
      "source": "a # (!!)",
      "metadata": {
        "trusted": true
      },
      "outputs": [],
      "execution_count": null
    },
    {
      "cell_type": "code",
      "source": "a = np.arange(10)\nb = a[::2].copy() # глубокое копирование\nb[0] = 12\na",
      "metadata": {
        "trusted": true
      },
      "outputs": [],
      "execution_count": null
    },
    {
      "cell_type": "markdown",
      "source": "## Слияние массивов",
      "metadata": {}
    },
    {
      "cell_type": "markdown",
      "source": "Функции `vstack`, `hstack` и `concatenate` позволяются составить общий массив из нескольких массивов:",
      "metadata": {}
    },
    {
      "cell_type": "markdown",
      "source": "<p style=\"font-size:22px\"><b>`concatenate`</b></p>",
      "metadata": {}
    },
    {
      "cell_type": "code",
      "source": "a = np.array([[1, 2], [3, 4]])\na",
      "metadata": {
        "trusted": true
      },
      "outputs": [],
      "execution_count": null
    },
    {
      "cell_type": "code",
      "source": "b = np.array([[5, 6]])\nb",
      "metadata": {
        "trusted": true
      },
      "outputs": [],
      "execution_count": null
    },
    {
      "cell_type": "code",
      "source": "np.concatenate((a, b), axis=0)",
      "metadata": {
        "trusted": true
      },
      "outputs": [],
      "execution_count": null
    },
    {
      "cell_type": "code",
      "source": "np.concatenate((a, b.T), axis=1)",
      "metadata": {
        "trusted": true
      },
      "outputs": [],
      "execution_count": null
    },
    {
      "cell_type": "markdown",
      "source": "<p style=\"font-size:22px\"><b>`hstack` и `vstack`</b></p>",
      "metadata": {}
    },
    {
      "cell_type": "code",
      "source": "np.vstack((a,b))",
      "metadata": {
        "trusted": true
      },
      "outputs": [],
      "execution_count": null
    },
    {
      "cell_type": "code",
      "source": "np.hstack((a,b.T))",
      "metadata": {
        "trusted": true
      },
      "outputs": [],
      "execution_count": null
    },
    {
      "cell_type": "markdown",
      "source": "## Индексация",
      "metadata": {}
    },
    {
      "cell_type": "markdown",
      "source": "Доступ к данным массива организуется с помощью индексов и оператора `[]`.",
      "metadata": {}
    },
    {
      "cell_type": "code",
      "source": "a = np.arange(10)\na",
      "metadata": {
        "trusted": true
      },
      "outputs": [],
      "execution_count": null
    },
    {
      "cell_type": "code",
      "source": "int(a[0]), a[2], a[-1]",
      "metadata": {
        "trusted": true
      },
      "outputs": [],
      "execution_count": null
    },
    {
      "cell_type": "markdown",
      "source": "Для многомерных массивов индексами является кортеж целых чисел:",
      "metadata": {}
    },
    {
      "cell_type": "code",
      "source": "m = np.diag(np.arange(3))\nm",
      "metadata": {
        "trusted": true
      },
      "outputs": [],
      "execution_count": null
    },
    {
      "cell_type": "code",
      "source": "m[1, 1]",
      "metadata": {
        "trusted": true
      },
      "outputs": [],
      "execution_count": null
    },
    {
      "cell_type": "code",
      "source": "m[(1, 1)]",
      "metadata": {
        "trusted": true
      },
      "outputs": [],
      "execution_count": null
    },
    {
      "cell_type": "markdown",
      "source": "Можно использовать \"`:`\" для получения доступа к целой колонке или строке: ",
      "metadata": {}
    },
    {
      "cell_type": "code",
      "source": "m[1, :] # строка 1",
      "metadata": {
        "trusted": true
      },
      "outputs": [],
      "execution_count": null
    },
    {
      "cell_type": "code",
      "source": "m[:, 2] # колонка 2",
      "metadata": {
        "trusted": true
      },
      "outputs": [],
      "execution_count": null
    },
    {
      "cell_type": "markdown",
      "source": "Присваивание новых значений элементам массива:",
      "metadata": {}
    },
    {
      "cell_type": "code",
      "source": "m[2, 1] = 10\nm",
      "metadata": {
        "trusted": true
      },
      "outputs": [],
      "execution_count": null
    },
    {
      "cell_type": "code",
      "source": "m[1, :] = 5\nm[: ,2] = -1",
      "metadata": {
        "trusted": true
      },
      "outputs": [],
      "execution_count": null
    },
    {
      "cell_type": "code",
      "source": "m",
      "metadata": {
        "trusted": true
      },
      "outputs": [],
      "execution_count": null
    },
    {
      "cell_type": "markdown",
      "source": "## Слайсинг",
      "metadata": {}
    },
    {
      "cell_type": "markdown",
      "source": "NumPy поддерживает слайсинг, как и списки с кортежами в Python:",
      "metadata": {}
    },
    {
      "cell_type": "code",
      "source": "a = np.arange(10)\na",
      "metadata": {
        "trusted": true
      },
      "outputs": [],
      "execution_count": null
    },
    {
      "cell_type": "markdown",
      "source": "Все три параметра слайсинга являются опциональными: по умолчанию `start` равен **0**, `end` равен последнему элемену и `step` равен **1** в `a[start:stop:step]`:",
      "metadata": {}
    },
    {
      "cell_type": "code",
      "source": "a[::] # все параметры слайсинга имеют значения по умолчанию",
      "metadata": {
        "trusted": true
      },
      "outputs": [],
      "execution_count": null
    },
    {
      "cell_type": "code",
      "source": "a[1:3]",
      "metadata": {
        "trusted": true
      },
      "outputs": [],
      "execution_count": null
    },
    {
      "cell_type": "code",
      "source": "a[:3]",
      "metadata": {
        "trusted": true
      },
      "outputs": [],
      "execution_count": null
    },
    {
      "cell_type": "code",
      "source": "a[3:]",
      "metadata": {
        "trusted": true
      },
      "outputs": [],
      "execution_count": null
    },
    {
      "cell_type": "code",
      "source": "a[2:9:2] ",
      "metadata": {
        "trusted": true
      },
      "outputs": [],
      "execution_count": null
    },
    {
      "cell_type": "markdown",
      "source": "Отрицательные индексы отсчитываются от конца массива:",
      "metadata": {}
    },
    {
      "cell_type": "code",
      "source": "a[-1] # последний элемент массива",
      "metadata": {
        "trusted": true
      },
      "outputs": [],
      "execution_count": null
    },
    {
      "cell_type": "code",
      "source": "a[-3:] # последние три элемента",
      "metadata": {
        "trusted": true
      },
      "outputs": [],
      "execution_count": null
    },
    {
      "cell_type": "markdown",
      "source": "Слайсы являются представлениями массива, а потому являются изменяемыми:",
      "metadata": {}
    },
    {
      "cell_type": "code",
      "source": "a[1:3] = [-2,-3]\na",
      "metadata": {
        "trusted": true
      },
      "outputs": [],
      "execution_count": null
    },
    {
      "cell_type": "markdown",
      "source": "**Задание**: разверните массив (1, 2, 3) -> (3, 2, 1)",
      "metadata": {}
    },
    {
      "cell_type": "code",
      "source": "array = [1, 2, 3]\narray[-1], array[0] = array[0], array[-1]\narray",
      "metadata": {
        "trusted": true
      },
      "outputs": [],
      "execution_count": null
    },
    {
      "cell_type": "markdown",
      "source": "Слайсинг работает точно так же и для многомерных массивов:",
      "metadata": {}
    },
    {
      "cell_type": "code",
      "source": "m = np.random.randint(1,100, size=(4, 4))\nm",
      "metadata": {
        "trusted": true
      },
      "outputs": [],
      "execution_count": null
    },
    {
      "cell_type": "code",
      "source": "m[1:4, 1:4]",
      "metadata": {
        "trusted": true
      },
      "outputs": [],
      "execution_count": null
    },
    {
      "cell_type": "code",
      "source": "m[::2, ::2]",
      "metadata": {
        "trusted": true
      },
      "outputs": [],
      "execution_count": null
    },
    {
      "cell_type": "markdown",
      "source": "**Задание**: Создайте массив 5х5 и заполните двойками обе диагонали, а нулями все остальное",
      "metadata": {}
    },
    {
      "cell_type": "code",
      "source": "matr = np.diag([2] * 5)\nfor i in range(5):\n    matr[i, 5 - 1 - i] = 2\nprint(matr)",
      "metadata": {
        "trusted": true
      },
      "outputs": [],
      "execution_count": null
    },
    {
      "cell_type": "markdown",
      "source": "**Задание**: Создайте массив с значениями 1,2,3,4 на 1 поддиагонали ",
      "metadata": {}
    },
    {
      "cell_type": "code",
      "source": "matr = np.diag(np.arange(1, 5), k=-1)\nprint(matr)",
      "metadata": {
        "trusted": true
      },
      "outputs": [],
      "execution_count": null
    },
    {
      "cell_type": "markdown",
      "source": "## Линейная алгебра",
      "metadata": {}
    },
    {
      "cell_type": "markdown",
      "source": "Код, написанный на numpy становится эффективным тогда, когда он достаточно векторизован (т.е. векторные и матричные операции используются в бОльшей части программы).",
      "metadata": {}
    },
    {
      "cell_type": "markdown",
      "source": "### Поэлементные операции",
      "metadata": {}
    },
    {
      "cell_type": "markdown",
      "source": "Все арифметические операции по умолчанию являются поэлементными:",
      "metadata": {}
    },
    {
      "cell_type": "code",
      "source": "a = np.arange(4)\na + 1",
      "metadata": {
        "trusted": true
      },
      "outputs": [],
      "execution_count": null
    },
    {
      "cell_type": "code",
      "source": "5*a",
      "metadata": {
        "trusted": true
      },
      "outputs": [],
      "execution_count": null
    },
    {
      "cell_type": "code",
      "source": "2**a",
      "metadata": {
        "trusted": true
      },
      "outputs": [],
      "execution_count": null
    },
    {
      "cell_type": "code",
      "source": "j = np.arange(5)\n2**(j + 1) - j",
      "metadata": {
        "trusted": true
      },
      "outputs": [],
      "execution_count": null
    },
    {
      "cell_type": "markdown",
      "source": "### Операции между массивами",
      "metadata": {}
    },
    {
      "cell_type": "code",
      "source": "a = np.arange(4)\nb = np.ones(4) + 3\nprint('a = ', a)\nprint('b = ', b)\na - b",
      "metadata": {
        "trusted": true
      },
      "outputs": [],
      "execution_count": null
    },
    {
      "cell_type": "code",
      "source": "a * b",
      "metadata": {
        "trusted": true
      },
      "outputs": [],
      "execution_count": null
    },
    {
      "cell_type": "markdown",
      "source": "Сравнения:",
      "metadata": {}
    },
    {
      "cell_type": "code",
      "source": "a = np.array([1, 2, 3, 4])\nb = np.array([4, 2, 2, 4])\na == b",
      "metadata": {
        "trusted": true
      },
      "outputs": [],
      "execution_count": null
    },
    {
      "cell_type": "code",
      "source": "a > b",
      "metadata": {
        "trusted": true
      },
      "outputs": [],
      "execution_count": null
    },
    {
      "cell_type": "markdown",
      "source": "Логические операции:",
      "metadata": {}
    },
    {
      "cell_type": "code",
      "source": "a = np.array([1, 1, 0, 0], dtype=bool)\nb = np.array([1, 0, 1, 0], dtype=bool)\nnp.logical_or(a, b)",
      "metadata": {
        "trusted": true
      },
      "outputs": [],
      "execution_count": null
    },
    {
      "cell_type": "code",
      "source": "a | b",
      "metadata": {
        "trusted": true
      },
      "outputs": [],
      "execution_count": null
    },
    {
      "cell_type": "code",
      "source": "np.logical_and(a, b)",
      "metadata": {
        "trusted": true
      },
      "outputs": [],
      "execution_count": null
    },
    {
      "cell_type": "code",
      "source": "a & b",
      "metadata": {
        "trusted": true
      },
      "outputs": [],
      "execution_count": null
    },
    {
      "cell_type": "markdown",
      "source": "Использование логических операторов позволяет обращаться к элементам массива через маску:",
      "metadata": {}
    },
    {
      "cell_type": "code",
      "source": "c = np.array([1, 2, 3, 4], dtype=int)\nd = np.array([1, 2, 5, 6], dtype=int)\nc[c == d]",
      "metadata": {
        "trusted": true
      },
      "outputs": [],
      "execution_count": null
    },
    {
      "cell_type": "markdown",
      "source": "**Задание**: найдите ненулевые элементы массива [1,2,0,0,8,0, 4,1]",
      "metadata": {}
    },
    {
      "cell_type": "code",
      "source": "array = np.array([1, 2, 0, 0, 8, 0, 4, 1])\nans = array[array != 0]\nprint(ans)",
      "metadata": {
        "trusted": true
      },
      "outputs": [],
      "execution_count": null
    },
    {
      "cell_type": "markdown",
      "source": "### Матричная алгебра",
      "metadata": {}
    },
    {
      "cell_type": "markdown",
      "source": "Перемножение массивов является поэлементным. Для матричного умножения необходимо использовать функцию `dot`:",
      "metadata": {}
    },
    {
      "cell_type": "code",
      "source": "m = np.array([[1., 2.], [3., 4.]])\nm",
      "metadata": {
        "trusted": true
      },
      "outputs": [],
      "execution_count": null
    },
    {
      "cell_type": "code",
      "source": "m * m",
      "metadata": {
        "trusted": true
      },
      "outputs": [],
      "execution_count": null
    },
    {
      "cell_type": "code",
      "source": "m.dot(m)",
      "metadata": {
        "trusted": true
      },
      "outputs": [],
      "execution_count": null
    },
    {
      "cell_type": "markdown",
      "source": "**Задание**: Создайте 2 массива 2х4, проверьте, что они одинаковы",
      "metadata": {}
    },
    {
      "cell_type": "code",
      "source": "first_array = np.random.randint(0, 5, size=(2, 4))\nsecond_array = np.random.randint(0, 5, size=(2, 4))\nprint(first_array)\nprint(second_array)\nare_equal = np.array_equal(first_array, second_array)\nprint(\"The arrays are the same?:\", are_equal)",
      "metadata": {
        "trusted": true
      },
      "outputs": [],
      "execution_count": null
    },
    {
      "cell_type": "markdown",
      "source": "### Трансформирование массивов",
      "metadata": {}
    },
    {
      "cell_type": "markdown",
      "source": "Для транспонирования матриц используется либо `.T`, либо функция `transpose`:",
      "metadata": {}
    },
    {
      "cell_type": "code",
      "source": "m",
      "metadata": {
        "trusted": true
      },
      "outputs": [],
      "execution_count": null
    },
    {
      "cell_type": "code",
      "source": "m.T",
      "metadata": {
        "trusted": true
      },
      "outputs": [],
      "execution_count": null
    },
    {
      "cell_type": "code",
      "source": "m.transpose()",
      "metadata": {
        "trusted": true
      },
      "outputs": [],
      "execution_count": null
    },
    {
      "cell_type": "markdown",
      "source": "Метод reshape позволяет изменить shape массива на произвольный shape, дающий то же число элементов, что и оригинальный shape. ",
      "metadata": {}
    },
    {
      "cell_type": "markdown",
      "source": "Понять, каким будет конечный вид массива, легко. Достаточно представить, как текущий массив выглядит в линейной форме в соответствии с C-order или F-order в зависимости от аргумента order, передаваемого в reshape (по умолчанию используется C-order), и переписать его в многомерный вид в соответствии с новым shape, используя тот же order. Рассмотрим пример ниже",
      "metadata": {}
    },
    {
      "cell_type": "code",
      "source": "a = np.array([\n    [0, 1, 2],\n    [3, 4, 5],\n    [6, 7, 8],\n    [9, 10, 11],\n], dtype=np.int16)\na.shape",
      "metadata": {
        "trusted": true
      },
      "outputs": [],
      "execution_count": null
    },
    {
      "cell_type": "code",
      "source": "a.reshape(-1)\n",
      "metadata": {
        "trusted": true
      },
      "outputs": [],
      "execution_count": null
    },
    {
      "cell_type": "markdown",
      "source": "Допустим теперь, что мы хотим получить shape = (2, 2, 3). В C-order самым быстрым индексом является последний, следовательно, фиксируя первые два индекса, мы должны получить подмассивы a_1 = [0, 1, 2], a_2 = [3, 4, 5], a_3 = [6, 7, 8] и a_4 = [9, 10, 11]. Их \"схлопывание\" дает снова линейный массив [a_1, a_2, a_3, a_4]. Снова используя C-order и фиксируя первый индекс, мы получаем два подмассива [a_1, a_2] и [a_3, a_4]. Следовательно, финальный массив будет иметь следующий вид:\n\n[\n    [\n        [0, 1, 2],\n        [3, 4, 5],\n    ],\n    [\n        [6, 7, 8],\n        [9, 10, 11],\n    ],\n]",
      "metadata": {}
    },
    {
      "cell_type": "code",
      "source": "a.reshape(2, 2, 3)",
      "metadata": {
        "trusted": true
      },
      "outputs": [],
      "execution_count": null
    },
    {
      "cell_type": "markdown",
      "source": "**Задание**: Создайте вектор х длины 5 и матрицу А размера 5х4. Перемножьте их, чтобы получить результаты размера [1,5], [5], [4x5] ",
      "metadata": {}
    },
    {
      "cell_type": "code",
      "source": "x = np.random.randint(1,10, size=(5, 1)).T\nA = np.random.randint(1,10, size=(5, 4)) \nprint(\"x:\", x)\nprint(\"A:\", A)\nprint(\"[1, 5]:\", np.dot())\nprint(\"[5]:\", np.dot())\nprint(\"[4x5]:\", np.dot())",
      "metadata": {
        "trusted": true
      },
      "outputs": [],
      "execution_count": null
    },
    {
      "cell_type": "markdown",
      "source": "Другие математические функции:",
      "metadata": {}
    },
    {
      "cell_type": "code",
      "source": "c = np.matrix([[1j, 2j], [3j, 4j]])\nc",
      "metadata": {
        "trusted": true
      },
      "outputs": [],
      "execution_count": null
    },
    {
      "cell_type": "code",
      "source": "np.conjugate(c)",
      "metadata": {
        "trusted": true
      },
      "outputs": [],
      "execution_count": null
    },
    {
      "cell_type": "markdown",
      "source": "Эрмитово-сопряженная матрица(transpose + conjugate):",
      "metadata": {}
    },
    {
      "cell_type": "code",
      "source": "c.H",
      "metadata": {
        "trusted": true
      },
      "outputs": [],
      "execution_count": null
    },
    {
      "cell_type": "markdown",
      "source": "Вещественная и мнимая части могут быть получены с помощью `real` и `imag`:",
      "metadata": {}
    },
    {
      "cell_type": "code",
      "source": "np.real(c) # то же: c.real",
      "metadata": {
        "trusted": true
      },
      "outputs": [],
      "execution_count": null
    },
    {
      "cell_type": "code",
      "source": "np.imag(c) # то же: c.imag",
      "metadata": {
        "trusted": true
      },
      "outputs": [],
      "execution_count": null
    },
    {
      "cell_type": "markdown",
      "source": "Модули элементов матрицы:",
      "metadata": {}
    },
    {
      "cell_type": "code",
      "source": "np.abs(c)",
      "metadata": {
        "trusted": true
      },
      "outputs": [],
      "execution_count": null
    },
    {
      "cell_type": "markdown",
      "source": "Задание: Извлеките целые части из случайного массива размера 5х5 (с float типом) как минимум 3 разными способами",
      "metadata": {}
    },
    {
      "cell_type": "code",
      "source": "array = np.random.rand(5, 5) * 10\nwhole = array.astype(int)\nprint(array)\nprint(whole)",
      "metadata": {
        "trusted": true
      },
      "outputs": [],
      "execution_count": null
    },
    {
      "cell_type": "code",
      "source": "array = np.random.rand(5, 5) * 10\nwhole = np.trunc(array)\nprint(array)\nprint(whole)",
      "metadata": {
        "trusted": true
      },
      "outputs": [],
      "execution_count": null
    },
    {
      "cell_type": "code",
      "source": "array = np.random.rand(5, 5) * 10\nwhole = np.floor(array)\nprint(array)\nprint(whole)",
      "metadata": {
        "trusted": true
      },
      "outputs": [],
      "execution_count": null
    },
    {
      "cell_type": "markdown",
      "source": "Задание: создайте двумерный массив, а потом добавьте к нему границу толщины 2 (весь исходный массив должен быть в новом)",
      "metadata": {}
    },
    {
      "cell_type": "code",
      "source": "array = np.random.randint(1,10, size=(5, 5))\nborder_array = np.pad(array, pad_width=2)\nprint(array)\nprint(border_array)",
      "metadata": {
        "trusted": true
      },
      "outputs": [],
      "execution_count": null
    },
    {
      "cell_type": "markdown",
      "source": "Задание: создайте массив 8х8, заполните 0 и 999 в шахматном порядке. ",
      "metadata": {}
    },
    {
      "cell_type": "code",
      "source": "array = np.zeros((8, 8), dtype=int)\nfor i in range(8):\n    for j in range(8):\n        if (i + j) % 2 == 0:\n           array[i, j] = 999 \nprint(array)",
      "metadata": {
        "trusted": true
      },
      "outputs": [],
      "execution_count": null
    },
    {
      "cell_type": "markdown",
      "source": "Задание: создайте массив 8х8, заполните 0 и 999 в шахматном порядке. Используйте функцию tile",
      "metadata": {}
    },
    {
      "cell_type": "code",
      "source": "pattern = np.array([[999, 0], [0, 999]])\narray = np.tile(pattern, (4, 4))\nprint(array)",
      "metadata": {
        "trusted": true
      },
      "outputs": [],
      "execution_count": null
    },
    {
      "cell_type": "markdown",
      "source": "### Матричные вычисления",
      "metadata": {}
    },
    {
      "cell_type": "markdown",
      "source": "<p style=\"font-size:18px\"><b>inverse</b></p>",
      "metadata": {}
    },
    {
      "cell_type": "code",
      "source": "np.linalg.inv(c) # то же: C.I ",
      "metadata": {
        "trusted": true
      },
      "outputs": [],
      "execution_count": null
    },
    {
      "cell_type": "code",
      "source": "c.I * c",
      "metadata": {
        "trusted": true
      },
      "outputs": [],
      "execution_count": null
    },
    {
      "cell_type": "markdown",
      "source": "<p style=\"font-size:18px\"><b>determinant</b></p>",
      "metadata": {}
    },
    {
      "cell_type": "code",
      "source": "np.linalg.det(c)",
      "metadata": {
        "trusted": true
      },
      "outputs": [],
      "execution_count": null
    },
    {
      "cell_type": "code",
      "source": "np.linalg.det(c.I)",
      "metadata": {
        "trusted": true
      },
      "outputs": [],
      "execution_count": null
    },
    {
      "cell_type": "markdown",
      "source": "Задание: нормализуйте случайный массив",
      "metadata": {}
    },
    {
      "cell_type": "code",
      "source": "array = np.random.randint(1, 10, size=(5, 5))\narray_normalized = (array - np.min(array)) / (np.max(array) - np.min(array))\nprint(array)\nprint(array_normalized)",
      "metadata": {
        "trusted": true
      },
      "outputs": [],
      "execution_count": null
    },
    {
      "cell_type": "markdown",
      "source": "Задание: Создайте квадратные матрицы A, B. Посчитайте ((A+B)*(-A/2)) без копирования массивов.",
      "metadata": {}
    },
    {
      "cell_type": "code",
      "source": "A = np.random.rand(4, 4) * 10\nB = np.random.rand(4, 4) * 10\nprint(A)\nprint(B)\nA += B\nB = -A / 2\nA *= B\nprint(A)",
      "metadata": {
        "trusted": true
      },
      "outputs": [],
      "execution_count": null
    },
    {
      "cell_type": "markdown",
      "source": "## Векторизация функций",
      "metadata": {}
    },
    {
      "cell_type": "markdown",
      "source": "Numpy предлагает средства для создания векторизованных оберток над функциями, которые изначально принимают на вход скалярные значения.",
      "metadata": {}
    },
    {
      "cell_type": "code",
      "source": "def foo(x):\n    if x >= 0:\n        return 1\n    else:\n        return 0",
      "metadata": {
        "trusted": true
      },
      "outputs": [],
      "execution_count": null
    },
    {
      "cell_type": "code",
      "source": "foo(np.array([-3, -2, -1, 0, 1, 2, 3]))",
      "metadata": {
        "trusted": true
      },
      "outputs": [],
      "execution_count": null
    },
    {
      "cell_type": "markdown",
      "source": "Эта функция работает для скалярных данных. \n\nЧтобы это функция принимала векторные значения, необходимо провести векторизацию с помощью функии `vectorize`:",
      "metadata": {}
    },
    {
      "cell_type": "code",
      "source": "foo_vec = np.vectorize(foo)",
      "metadata": {
        "trusted": true
      },
      "outputs": [],
      "execution_count": null
    },
    {
      "cell_type": "code",
      "source": "foo_vec(np.array([-3, -2, -1, 0, 1, 2, 3]))",
      "metadata": {
        "trusted": true
      },
      "outputs": [],
      "execution_count": null
    },
    {
      "cell_type": "markdown",
      "source": "- Задание: создайте случайный вектор размера 10 и отсортируйте\n- Доп.задание: отсортируйте строки двумерной матрицы 6х6",
      "metadata": {}
    },
    {
      "cell_type": "code",
      "source": "vector = np.random.randint(0, 10, size = 10)\nprint(vector)\nvector = np.sort(vector)\nprint(vector)",
      "metadata": {
        "trusted": true
      },
      "outputs": [],
      "execution_count": null
    },
    {
      "cell_type": "code",
      "source": "matr = np.random.randint(0, 10, size = (6, 6))\nprint(matr)\nmatr = np.sort(matr)\nprint(matr)",
      "metadata": {
        "trusted": true
      },
      "outputs": [],
      "execution_count": null
    },
    {
      "cell_type": "markdown",
      "source": "Задание: Вычтите среднее из строк матрицы.",
      "metadata": {}
    },
    {
      "cell_type": "code",
      "source": "matr = np.random.rand(6, 6)\nprint(matr)\naverage = np.mean(matr)\nmatr -= average\nprint(average)\nprint(matr)",
      "metadata": {
        "trusted": true
      },
      "outputs": [],
      "execution_count": null
    },
    {
      "cell_type": "markdown",
      "source": "Задание: Создайте массив [[1, 0, null, 2, 4, null, 9],[null, 1, 0, -2, null, null, 3]]. Выведите маску, в которой 1 соответствуют null значениям.",
      "metadata": {}
    },
    {
      "cell_type": "code",
      "source": "array = np.array([[1, 0, None, 2, 4, None, 9], [None, 1, 0, -2, None, None, 3]], dtype=object)\narray = np.where(array == None, np.nan, array).astype(float)\nmask = np.isnan(array).astype(int)\nprint(mask)",
      "metadata": {
        "trusted": true
      },
      "outputs": [],
      "execution_count": null
    },
    {
      "cell_type": "markdown",
      "source": "# Matplotlib\n\n* Пакет для Python, используемый для создания качественных 2D визуализацией (есть минимальная поддержка 3D)\n* Возможность создавать интерактивные графики\n* Добавление множества графиков на один рисунок с кастомным расположением\n* Экспорт в различные форматы изображений\n* Есть поддержка анимаций",
      "metadata": {}
    },
    {
      "cell_type": "code",
      "source": "# Позволяет matplotlib отображать графики сразу в notebook.\n%matplotlib inline",
      "metadata": {
        "trusted": true
      },
      "outputs": [],
      "execution_count": null
    },
    {
      "cell_type": "markdown",
      "source": "## Matplotlib API",
      "metadata": {}
    },
    {
      "cell_type": "markdown",
      "source": "Импортирование модуля `matplotlib.pyplot` под именем `plt`:",
      "metadata": {}
    },
    {
      "cell_type": "code",
      "source": "import matplotlib.pyplot as plt",
      "metadata": {
        "trusted": true
      },
      "outputs": [],
      "execution_count": null
    },
    {
      "cell_type": "code",
      "source": "import numpy as np",
      "metadata": {
        "trusted": true
      },
      "outputs": [],
      "execution_count": null
    },
    {
      "cell_type": "markdown",
      "source": "Простейший пример построения графиков в matplotlib:",
      "metadata": {}
    },
    {
      "cell_type": "code",
      "source": "x = np.linspace(-2., 2., 128, endpoint=True)\ny1 = x**2\ny2 = np.exp(x)\nplt.plot(x, y1)\nplt.plot(x, y2)\nplt.xlabel(r'$x \\in \\mathbb{R}$', fontsize=12)\nplt.ylabel(r'$y(x)$', fontsize=12)\nplt.show()",
      "metadata": {
        "trusted": true
      },
      "outputs": [],
      "execution_count": null
    },
    {
      "cell_type": "markdown",
      "source": "Рекомендуется создавать отдельный объект для каждого более-менее сложного графика. Это можно реализоваться, например, с помощью функии `subplots`:",
      "metadata": {}
    },
    {
      "cell_type": "code",
      "source": "# Сетка графиков -- 1x1. Размер задается с помощью figsize.\nfig, ax = plt.subplots(nrows=1, ncols=1, figsize=(8, 6))\nax.plot(x, y1, color=\"blue\", linewidth=1.0, linestyle=\"-\")\nax.plot(x, y2, color=\"green\", linewidth=1.0, linestyle=\"--\")\nax.grid()\nax.set_xlabel(r'$x$', fontsize=12)\nax.set_ylabel(r'$y$', fontsize=12)\nplt.show()",
      "metadata": {
        "trusted": true
      },
      "outputs": [],
      "execution_count": null
    },
    {
      "cell_type": "markdown",
      "source": "Множественные графики",
      "metadata": {}
    },
    {
      "cell_type": "code",
      "source": "# Создаем 2 графика (в 2 колонках)\nfig, axes = plt.subplots(1, 2, figsize=(10, 6))\naxes[0].plot(x, y1, 'r')\naxes[1].plot(x, y2, 'b')\nfig.tight_layout()",
      "metadata": {
        "trusted": true
      },
      "outputs": [],
      "execution_count": null
    },
    {
      "cell_type": "markdown",
      "source": "## Сохранение графиков",
      "metadata": {}
    },
    {
      "cell_type": "markdown",
      "source": "Текущий график можно сохранить, вызвав метод `savefig` класса `Figure`:",
      "metadata": {}
    },
    {
      "cell_type": "code",
      "source": "fig.savefig(\"filename.png\")",
      "metadata": {
        "trusted": true
      },
      "outputs": [],
      "execution_count": null
    },
    {
      "cell_type": "markdown",
      "source": "Также можно указать DPI и различные форматы:",
      "metadata": {}
    },
    {
      "cell_type": "code",
      "source": "fig.savefig(\"filename.pdf\", dpi=200)",
      "metadata": {
        "trusted": true
      },
      "outputs": [],
      "execution_count": null
    },
    {
      "cell_type": "markdown",
      "source": "### Легенды, описания осей и графиков",
      "metadata": {}
    },
    {
      "cell_type": "markdown",
      "source": "**Заголовок графика**\n",
      "metadata": {}
    },
    {
      "cell_type": "markdown",
      "source": "`axes.set_title(\"title\")`",
      "metadata": {}
    },
    {
      "cell_type": "markdown",
      "source": "**Описания осей**\n",
      "metadata": {}
    },
    {
      "cell_type": "markdown",
      "source": "`axes.set_xlabel(\"x\")\naxes.set_ylabel(\"y\")`",
      "metadata": {}
    },
    {
      "cell_type": "markdown",
      "source": "**Легенда**\n\nЛегенды могут создаваться двумя способами. Первый -- явно через метод `legend`:",
      "metadata": {}
    },
    {
      "cell_type": "markdown",
      "source": "`axes.legend([\"curve1\", \"curve2\"])`",
      "metadata": {}
    },
    {
      "cell_type": "markdown",
      "source": "Второй метод -- использование `label=\"label text\"` при вызове `plot` с последующим вызовом метода `legend`: ",
      "metadata": {}
    },
    {
      "cell_type": "markdown",
      "source": "`axes.plot(x, x**2, label=\"curve1\")\naxes.plot(x, x**3, label=\"curve2\")\naxes.legend()`",
      "metadata": {}
    },
    {
      "cell_type": "markdown",
      "source": "Также можно выбрать расположение легенды на графике:",
      "metadata": {}
    },
    {
      "cell_type": "markdown",
      "source": "`ax.legend(loc=0) # автовыбор\nax.legend(loc='upper right')\nax.legend(loc='upper left')\nax.legend(loc='lower left')\nax.legend(loc='lower right')`",
      "metadata": {}
    },
    {
      "cell_type": "markdown",
      "source": "Пример использования описанного выше:",
      "metadata": {}
    },
    {
      "cell_type": "code",
      "source": "fig, ax = plt.subplots()\nax.plot(x, x**2, label=\"y = x**2\")\nax.plot(x, x**3, label=\"y = x**3\")\nax.legend(loc='upper left');\nax.set_xlabel('x')\nax.set_ylabel('y')\nax.set_title('title');",
      "metadata": {
        "trusted": true
      },
      "outputs": [],
      "execution_count": null
    },
    {
      "cell_type": "markdown",
      "source": "**Задание**:\nДан временной ряд дневной цены некоторого актива:\n\nstock_prices = np.array([100, 102, 101, 105, 107, 110, 108, 109, 112, 115, 114, 116, 118, 120, 119])\n1) Постройте временной ряд недельного скользящего среднего, то есть скользящего среднего с окном, равным одной неделе. При построении скользящего среднего ряда игнорируйте ту часть исходного временного ряда, где в окно попадает меньше одной недели.\n2) Постройте линейный график исходной цены и цены, полученной с помощью скользящего среднего",
      "metadata": {}
    },
    {
      "cell_type": "code",
      "source": "stock_prices = np.array([100, 102, 101, 105, 107, 110, 108, 109, 112, 115, 114, 116, 118, 120, 119])\nmoving_average = np.convolve(stock_prices, np.ones(7) / 7, mode='valid')\n\nplt.figure(figsize=(10, 6))\nplt.plot(np.arange(1, len(stock_prices) + 1), stock_prices, label='Stock prices', marker='o')\nplt.plot(np.arange(7, len(stock_prices) + 1), moving_average, label='Moving Average (weekly)', marker='o')\nplt.title('Stock prices and weekly moving average')\nplt.xlabel('Days')\nplt.ylabel('Price')\nplt.legend()\nplt.grid(True)\nplt.show()",
      "metadata": {
        "trusted": true
      },
      "outputs": [],
      "execution_count": null
    },
    {
      "cell_type": "markdown",
      "source": "Интерфейс subplots позволяет создавать сетку из множественных графиков",
      "metadata": {}
    },
    {
      "cell_type": "code",
      "source": "fig, axes = plt.subplots(1, 2, figsize=(8, 4))\naxes[0].plot(x, y1, \"r\")  # в этот раз мы используем fmt для задания цвета\naxes[1].plot(x, y2, \"b\")\nfor ax in axes:\n    ax.set_xlabel(r'$x$', fontsize=12)\n    ax.set_ylabel(r'$y(x)$', fontsize=12)\n    ax.grid()\nfig.tight_layout()\nplt.show()",
      "metadata": {
        "trusted": true
      },
      "outputs": [],
      "execution_count": null
    },
    {
      "cell_type": "markdown",
      "source": "**Задание**: создайте график 2х1, постройте графики sin(x), e**(x). Используйте в графике с e**x логарифмическую шкалу (semilogx, semilogy или loglog).",
      "metadata": {}
    },
    {
      "cell_type": "code",
      "source": "fig, axs = plt.subplots(2, 1, figsize=(8, 6))\n\ny_sin = np.sin(x)\ny_exp = np.exp(x)\n\naxs[0].plot(x, y_sin, label='sin(x)')\naxs[0].set_title('sin(x)')\naxs[0].set_xlabel('x')\naxs[0].set_ylabel('y')\naxs[0].legend()\naxs[0].grid()\n\naxs[1].loglog(x, y_exp, label='e^x', color='orange')\naxs[1].set_title('e^x')\naxs[1].set_xlabel('x')\naxs[1].set_ylabel('y')\naxs[1].legend()\naxs[1].grid()\n\nplt.tight_layout()\nplt.show()",
      "metadata": {
        "trusted": true
      },
      "outputs": [],
      "execution_count": null
    },
    {
      "cell_type": "markdown",
      "source": "# Pandas\n\n* Пакет для Python, используемый для представления, манипуляций и анализа табличных данных \n* Строится вокруг эффективно реализованных структур `pd.DataFrame` (таблица) и `pd.Series` (колонка), которые позволяют быстро манипулировать большими датасетами (если они помещаются в памяти, в противном случае необходимо использовать `dask`)\n* Поддерживает интерфейс, схожий с numpy массивами, но добавляет поддержку кастомовой табличной индексации\n* Часто используется как структура датасета для ML моделей",
      "metadata": {}
    },
    {
      "cell_type": "code",
      "source": "import pandas as pd",
      "metadata": {
        "trusted": true
      },
      "outputs": [],
      "execution_count": null
    },
    {
      "cell_type": "markdown",
      "source": "## Создание рядов и датафреймов",
      "metadata": {}
    },
    {
      "cell_type": "markdown",
      "source": "Основные манипуляции данными в pandas происходят через `pd.Series` (одномерный массив с кастомной индексацией) и `pd.DataFrame` (двумерный массив с кастомной индексацией и интерпретацией строк и столбцов). В рамках одного столбца (или одного `pd.Series`) тип данных постоянен.",
      "metadata": {}
    },
    {
      "cell_type": "markdown",
      "source": "### Создание `pd.Series`",
      "metadata": {}
    },
    {
      "cell_type": "markdown",
      "source": "Мы можем создать `pd.Series` напрямую из массива/списка. В этом случае будет создан автоматический индекс от 0 до N - 1, к которому мы всегда можем получить доступ через аттрибут `index`. Сам индекс является отдельным типом, который наследуется от `pd.Index` и представляет immutable последовательность, пригодную для индексации.",
      "metadata": {}
    },
    {
      "cell_type": "code",
      "source": "a = [1, 3, 5]\ns = pd.Series(a)\ns",
      "metadata": {
        "trusted": true
      },
      "outputs": [],
      "execution_count": null
    },
    {
      "cell_type": "code",
      "source": "s.index",
      "metadata": {
        "trusted": true
      },
      "outputs": [],
      "execution_count": null
    },
    {
      "cell_type": "markdown",
      "source": "Мы также можем задать свой собственный индекс, если он у нас имеется. Для удобства можно представлять себе индекс как первичный ключ в терминах SQL",
      "metadata": {}
    },
    {
      "cell_type": "code",
      "source": "s = pd.Series(a, index=['x', 'y', 'z'])\ns",
      "metadata": {
        "trusted": true
      },
      "outputs": [],
      "execution_count": null
    },
    {
      "cell_type": "code",
      "source": "s.index",
      "metadata": {
        "trusted": true
      },
      "outputs": [],
      "execution_count": null
    },
    {
      "cell_type": "markdown",
      "source": "Создать `pd.Series` мы можем также из словаря, где ключи будут интерпретироваться как индексы.",
      "metadata": {}
    },
    {
      "cell_type": "code",
      "source": "data = {\n    'x': 1,\n    'y': 3,\n    'z': 5,\n}\ns = pd.Series(data)\ns",
      "metadata": {
        "trusted": true
      },
      "outputs": [],
      "execution_count": null
    },
    {
      "cell_type": "markdown",
      "source": "### Создание `pd.DataFrame`",
      "metadata": {}
    },
    {
      "cell_type": "markdown",
      "source": "Мы можем представить `pd.DataFrame` как набор `pd.Series`, скрепленных общим индексом. Существует множество способов, как мы можем создать `pd.DataFrame`, но проще всего это сделать с помощью словаря.",
      "metadata": {}
    },
    {
      "cell_type": "code",
      "source": "people = {\n    'first_name': ['Anastasiya', 'Anton', 'Boris'],\n    'second_name': ['Nikolskaya', 'Pershin', 'Yeltsin'],\n    'sex': ['f', 'm', 'm'],\n    'gpa': [4.8, 4.5, 3.5],\n}\ndf = pd.DataFrame(people)\ndf",
      "metadata": {
        "trusted": true
      },
      "outputs": [],
      "execution_count": null
    },
    {
      "cell_type": "markdown",
      "source": "Мы также можем загрузить данные из файла. Чаще всего для этого используют csv и соответствующую функции `pd.read_csv()`",
      "metadata": {}
    },
    {
      "cell_type": "code",
      "source": "df_csv = pd.read_csv(cfg['house_pricing']['train_dataset'])\ndf_csv.head()",
      "metadata": {
        "trusted": true
      },
      "outputs": [],
      "execution_count": null
    },
    {
      "cell_type": "markdown",
      "source": "## Доступ к данным в датафрейме",
      "metadata": {}
    },
    {
      "cell_type": "markdown",
      "source": "Используя индекс и название столбца, мы всегда можем получить доступ к любому набору данных в датафрейме. Общий интерфейс нам предоставляет оператор `[ ]`, примененный к `loc`. Первым аргументом здесь будет индекс, а вторым -- столбец:",
      "metadata": {}
    },
    {
      "cell_type": "code",
      "source": "df.loc[1, 'first_name']",
      "metadata": {
        "trusted": true
      },
      "outputs": [],
      "execution_count": null
    },
    {
      "cell_type": "markdown",
      "source": "И первый, и второй аргументы могут последовательностями, что позволяет получить доступ к любому подмножеству датафрейма, который сам является датафреймом:",
      "metadata": {}
    },
    {
      "cell_type": "code",
      "source": "df.loc[[0, 1], ['first_name', 'second_name']]",
      "metadata": {
        "trusted": true
      },
      "outputs": [],
      "execution_count": null
    },
    {
      "cell_type": "markdown",
      "source": "Есть несколько упрощений для этого синтаксиса. Начнем с доступа по индексу исключительно. Допустим, мы хотим получить строку с индексом 1:",
      "metadata": {}
    },
    {
      "cell_type": "code",
      "source": "df.loc[1]",
      "metadata": {
        "trusted": true
      },
      "outputs": [],
      "execution_count": null
    },
    {
      "cell_type": "markdown",
      "source": "Обратите внимание, что возвращенный объект является инстансом `pd.Series` с индексом `['first_name', 'second_name', 'sex', 'gpa']`:",
      "metadata": {}
    },
    {
      "cell_type": "code",
      "source": "print(type(df.loc[1]))\ndf.loc[1].index",
      "metadata": {
        "trusted": true
      },
      "outputs": [],
      "execution_count": null
    },
    {
      "cell_type": "markdown",
      "source": "Мы также можем получить `pd.Series` по одному из столбцов, используя оператор `[ ]` напрямую:",
      "metadata": {}
    },
    {
      "cell_type": "code",
      "source": "df['first_name']",
      "metadata": {
        "trusted": true
      },
      "outputs": [],
      "execution_count": null
    },
    {
      "cell_type": "markdown",
      "source": "Снова можно передать последовательность названий столбцов в `[ ]` для получения подмножества столбцов:",
      "metadata": {}
    },
    {
      "cell_type": "code",
      "source": "df[['first_name', 'second_name']]",
      "metadata": {
        "trusted": true
      },
      "outputs": [],
      "execution_count": null
    },
    {
      "cell_type": "markdown",
      "source": "Мы также можем комбинировать `loc()` и `[ ]` для получения доступа к любому подмножеству датафрейма (chained indexing). Это легитимно до тех пор, пока нашей задачей является доступ к данным, а не их изменение",
      "metadata": {}
    },
    {
      "cell_type": "code",
      "source": "df[['first_name', 'second_name']].loc[[0, 1]]",
      "metadata": {
        "trusted": true
      },
      "outputs": [],
      "execution_count": null
    },
    {
      "cell_type": "markdown",
      "source": "## Изменение данных в датафрейме",
      "metadata": {}
    },
    {
      "cell_type": "markdown",
      "source": "Обратите внимание, что во всех операциях выше возвращался новый инстанс `pd.DataFrame` или `pd.Series`. Возникает естественный вопрос -- происходит в этом случае копирование данных или нет? На этот вопрос нет однозначного ответа -- в одном случае может произойти копирование данных, а в другом будет возвращено их представление. Существуют правила, которые конкретизируют эти случаи [1], но во всех операциях следует использовать наиболее консервативный подход, то есть явные копирования и изменения. Ниже мы рассмотрим частные случаи.\n\nПравило для изменения данных в исходном датафрейме очень простое -- не должно быть никакого chained indexing [2]. В противном случае мы можете получить warning `SettingWithCopy`. Причина состоит в том, что pandas не имеет механизма для отслеживания \"представлений в представлениях\". После первой индексации будет возвращен датафрейм/ряд, относительно которого нет уверенности -- является ли он копией или представлением.\n\n[1] https://stackoverflow.com/questions/23296282/what-rules-does-pandas-use-to-generate-a-view-vs-a-copy  \n[2] https://pandas.pydata.org/pandas-docs/stable/user_guide/indexing.html#returning-a-view-versus-a-copy",
      "metadata": {}
    },
    {
      "cell_type": "markdown",
      "source": "Предположим, что мы хотим изменить оценку в исходном датафрейме для индекса 1. Мы можем это сделать, избегая chained indexing, используя `loc`:",
      "metadata": {}
    },
    {
      "cell_type": "code",
      "source": "df.loc[1, 'gpa'] = 4.6\ndf",
      "metadata": {
        "trusted": true
      },
      "outputs": [],
      "execution_count": null
    },
    {
      "cell_type": "markdown",
      "source": "Попытка сделать это через chained indexing может не сработать:",
      "metadata": {}
    },
    {
      "cell_type": "code",
      "source": "df.loc[1]['gpa'] = 4.5\ndf",
      "metadata": {
        "trusted": true
      },
      "outputs": [],
      "execution_count": null
    },
    {
      "cell_type": "markdown",
      "source": "А может и сработать:",
      "metadata": {}
    },
    {
      "cell_type": "code",
      "source": "df['gpa'][1] = 4.5\ndf",
      "metadata": {
        "trusted": true
      },
      "outputs": [],
      "execution_count": null
    },
    {
      "cell_type": "markdown",
      "source": "Именно из-за такой неоднозначности и стоит использовать наиболее явные способы изменения датафреймов.\n\nЕще одним из явных способов является изменение всего столбца через `[ ]`:",
      "metadata": {}
    },
    {
      "cell_type": "code",
      "source": "df['gpa'] = [5.0, 4.5, 3.2]\ndf",
      "metadata": {
        "trusted": true
      },
      "outputs": [],
      "execution_count": null
    },
    {
      "cell_type": "markdown",
      "source": "Если требуется создать копию датафрейма, то следует также создать копию явно: ",
      "metadata": {}
    },
    {
      "cell_type": "code",
      "source": "df_copy = df.copy()\ndf_copy.loc[0, 'gpa'] = 4.9\ndf_copy",
      "metadata": {
        "trusted": true
      },
      "outputs": [],
      "execution_count": null
    },
    {
      "cell_type": "markdown",
      "source": "## Exploratory data analysis (EDA) ",
      "metadata": {}
    },
    {
      "cell_type": "markdown",
      "source": "### Общая информация",
      "metadata": {}
    },
    {
      "cell_type": "markdown",
      "source": "Методы `head()` и `tail()` выводят первые (последние соотв.) n строк. Оба метода принимают кол-во выводимых строк как единственный аргумент (по умолчанию 5).",
      "metadata": {}
    },
    {
      "cell_type": "code",
      "source": "df_csv.head()",
      "metadata": {
        "trusted": true
      },
      "outputs": [],
      "execution_count": null
    },
    {
      "cell_type": "code",
      "source": "df_csv.tail()",
      "metadata": {
        "trusted": true
      },
      "outputs": [],
      "execution_count": null
    },
    {
      "cell_type": "markdown",
      "source": "Не все столбцы здесь выведены. Их список мы можем получить, используя аттрибут `columns`:",
      "metadata": {}
    },
    {
      "cell_type": "code",
      "source": "df_csv.columns",
      "metadata": {
        "trusted": true
      },
      "outputs": [],
      "execution_count": null
    },
    {
      "cell_type": "markdown",
      "source": "Базовую информацию о датафрейме (кол-во строк, кол-во столбцов, типы столбцов, кол-во not NaN значений) мы можем получить, используя метод `info()`:",
      "metadata": {}
    },
    {
      "cell_type": "code",
      "source": "df_csv.info()",
      "metadata": {
        "trusted": true
      },
      "outputs": [],
      "execution_count": null
    },
    {
      "cell_type": "markdown",
      "source": "NaN значения регулярно встречаются при работе с реальными датасетами. Как минимум, часто полезно знать их кол-во. Для этого удобно использовать метод `isna()` или `isnull()` (алиас для `isna()`):",
      "metadata": {}
    },
    {
      "cell_type": "code",
      "source": "df_csv.isna()",
      "metadata": {
        "trusted": true
      },
      "outputs": [],
      "execution_count": null
    },
    {
      "cell_type": "markdown",
      "source": "Просуммируя столбцы, мы получим кол-во NaN значений в каждом столбце:",
      "metadata": {}
    },
    {
      "cell_type": "code",
      "source": "df_csv.isna().sum()",
      "metadata": {
        "trusted": true
      },
      "outputs": [],
      "execution_count": null
    },
    {
      "cell_type": "markdown",
      "source": "Интересно узнать, какие столбцы имеют больше всего NaN значений. Для этого воспользуемся сортировкой:",
      "metadata": {}
    },
    {
      "cell_type": "code",
      "source": "df_csv.isna().sum().sort_values(ascending=False)",
      "metadata": {
        "trusted": true
      },
      "outputs": [],
      "execution_count": null
    },
    {
      "cell_type": "markdown",
      "source": "**Задание**: найдите максимальное число пустых значений в строке.",
      "metadata": {}
    },
    {
      "cell_type": "code",
      "source": "data = {\n    'first_name': ['Anastasiya', '', 'Boris', 'Slava', ''],\n    'second_name': ['Nikolskaya', 'Pershin', '', '', ''],\n    'sex': ['f', '', '', 'm', ''],\n    'gpa': [4.8, 4.5, 3.5, 5.0, None],\n}\ndf = pd.DataFrame(data)\nprint(df)\n\nis_empty = (df == '') | df.isna()\nempty_counts = is_empty.sum(axis=1)\nmax_empty = empty_counts.max()\n\nprint(\"Maximum number of empty values in a row:\", max_empty)",
      "metadata": {
        "trusted": true
      },
      "outputs": [],
      "execution_count": null
    },
    {
      "cell_type": "markdown",
      "source": "**Задание**: сколько строк вообще не имеют пустых значений? Сколько строк имеет не больше одного?",
      "metadata": {}
    },
    {
      "cell_type": "code",
      "source": "data = {\n    'first_name': ['Anastasiya', '', 'Boris', 'Slava', ''],\n    'second_name': ['Nikolskaya', 'Pershin', '', '', ''],\n    'sex': ['f', '', '', 'm', ''],\n    'gpa': [4.8, 4.5, 3.5, 5.0, None],\n}\ndf = pd.DataFrame(data)\nprint(df)\n\nis_empty = (df == '') | df.isna()\nempty_counts = is_empty.sum(axis=1)\nno_empty_rows = (empty_counts == 0).sum()\nno_more_than_one_empty_row = (empty_counts <= 1).sum()\n\nprint(\"Number of rows without empty values:\", no_empty_rows)\nprint(\"The number of rows with no more than one empty value:\", no_more_than_one_empty_row)",
      "metadata": {
        "trusted": true
      },
      "outputs": [],
      "execution_count": null
    },
    {
      "cell_type": "markdown",
      "source": "### Статистическая информация",
      "metadata": {}
    },
    {
      "cell_type": "markdown",
      "source": "Основные статистики по столбцам можно получить, вызвав метод `describe()`:",
      "metadata": {}
    },
    {
      "cell_type": "code",
      "source": "df_csv.describe()",
      "metadata": {
        "trusted": true
      },
      "outputs": [],
      "execution_count": null
    },
    {
      "cell_type": "markdown",
      "source": "Допустим, что нам интересны статистики только для цены жилья и года постройки:",
      "metadata": {}
    },
    {
      "cell_type": "code",
      "source": "df_csv[['SalePrice', 'YearBuilt']].describe()",
      "metadata": {
        "trusted": true
      },
      "outputs": [],
      "execution_count": null
    },
    {
      "cell_type": "markdown",
      "source": "Мы также можем настроить вывод нужных квантилей для лучшего описания распределений, используя ключевое слово `percentiles`:",
      "metadata": {}
    },
    {
      "cell_type": "code",
      "source": "df_csv[['SalePrice', 'YearBuilt']].describe(percentiles=[0.1, 0.3, 0.5, 0.7, 0.9])",
      "metadata": {
        "trusted": true
      },
      "outputs": [],
      "execution_count": null
    },
    {
      "cell_type": "markdown",
      "source": "Те же статистики мы можем вычислить отдельно. Например, можно воспользоваться методами `mean()`, `median()`, `std()`",
      "metadata": {}
    },
    {
      "cell_type": "code",
      "source": "df_csv.mean(numeric_only=True)",
      "metadata": {
        "trusted": true
      },
      "outputs": [],
      "execution_count": null
    },
    {
      "cell_type": "code",
      "source": "df_csv.median(numeric_only=True)",
      "metadata": {
        "trusted": true
      },
      "outputs": [],
      "execution_count": null
    },
    {
      "cell_type": "code",
      "source": "df_csv.std(numeric_only=True)",
      "metadata": {
        "trusted": true
      },
      "outputs": [],
      "execution_count": null
    },
    {
      "cell_type": "markdown",
      "source": "Эти статистики отлично подходят для численных столбцов, но множество столбцом в данном датасете представляют категориальные переменные. Для каждого такого столбца мы можем изучить распределение принимаемых значений, используя `value_counts()`:",
      "metadata": {}
    },
    {
      "cell_type": "code",
      "source": "# TA = typical average, Gd = good, Ex = excellent, Fa = fair\ndf_csv['KitchenQual'].value_counts()",
      "metadata": {
        "trusted": true
      },
      "outputs": [],
      "execution_count": null
    },
    {
      "cell_type": "markdown",
      "source": "Мы можем использовать аргумент `normalize=True` для построения функции вероятностей:",
      "metadata": {}
    },
    {
      "cell_type": "code",
      "source": "df_csv['KitchenQual'].value_counts(normalize=True)",
      "metadata": {
        "trusted": true
      },
      "outputs": [],
      "execution_count": null
    },
    {
      "cell_type": "markdown",
      "source": "Иногда нам необходимо провести анализ внутри подмножеств, полученных группировкой относительно некоторых столбцов. В этом случае полезным оказывается метод `groupby()`:",
      "metadata": {}
    },
    {
      "cell_type": "code",
      "source": "df_csv.groupby('KitchenQual').mean()",
      "metadata": {
        "trusted": true
      },
      "outputs": [],
      "execution_count": null
    },
    {
      "cell_type": "markdown",
      "source": "Рассмотрев среднюю цену по группам, мы можем сделать очевидный вывод, что жилье с качественной кухней стоит сильно дороже:",
      "metadata": {}
    },
    {
      "cell_type": "code",
      "source": "df_csv.groupby('KitchenQual')['SalePrice'].mean()",
      "metadata": {
        "trusted": true
      },
      "outputs": [],
      "execution_count": null
    },
    {
      "cell_type": "markdown",
      "source": "### Графики",
      "metadata": {}
    },
    {
      "cell_type": "markdown",
      "source": "Несмотря на то, что мы уже знакомы с matplotlib и могли бы воспользоваться им для построения графиков, pandas предоставляет встроенные инструменты, которые особенно удобно использовать в jupyter notebook во время EDA.\n\nНапример, построив гистрограмму, можно сразу предположить, что стоимость жилья имеет логнормальное распределение (или по крайней мере несимметричное распределение с тяжелым правым хвостом). При этом метод `plot.hist()` может использован только для числовых столбцов.",
      "metadata": {}
    },
    {
      "cell_type": "code",
      "source": "df_csv['SalePrice'].plot.hist()",
      "metadata": {
        "trusted": true
      },
      "outputs": [],
      "execution_count": null
    },
    {
      "cell_type": "markdown",
      "source": "Используя два столбца и `plot.scatter()`, мы можем взглянуть на зависимость между ними:",
      "metadata": {}
    },
    {
      "cell_type": "code",
      "source": "df_csv.plot.scatter(x='YearBuilt', y='OverallQual')",
      "metadata": {
        "trusted": true
      },
      "outputs": [],
      "execution_count": null
    },
    {
      "cell_type": "markdown",
      "source": "Для категориальных столбцов мы можем вывести распределение значений, используя `value_counts()` и `plot.bar()`. Здесь же мы продемонстрируем, как можно передавать дополнительные аргументы для изменения визуализации",
      "metadata": {}
    },
    {
      "cell_type": "code",
      "source": "df_csv['KitchenQual'].value_counts().plot.bar(figsize=(12, 6))",
      "metadata": {
        "trusted": true
      },
      "outputs": [],
      "execution_count": null
    },
    {
      "cell_type": "markdown",
      "source": "**Задание**:\nНайдете вме столбцы с  NaN значениями. Отсортируйте по увеличению числа NaN и постройте barplot.",
      "metadata": {}
    },
    {
      "cell_type": "markdown",
      "source": "Отличный инструмент для графиков  - seaborn. Это обертка над matplotlib, которая также предоставляет более широкий набор опций",
      "metadata": {}
    },
    {
      "cell_type": "code",
      "source": "import seaborn as sns\nfrom matplotlib import pyplot as plt\nsns.histplot(df_csv['SalePrice'])",
      "metadata": {
        "trusted": true
      },
      "outputs": [],
      "execution_count": null
    },
    {
      "cell_type": "markdown",
      "source": "**Задание**: Постройте гистограмму, но с 20 бинами.",
      "metadata": {}
    },
    {
      "cell_type": "code",
      "source": "data = np.random.randn(1000)\n\nplt.hist(data, bins=20, edgecolor='black')\n\nplt.title('A histogram with 20 bins')\nplt.xlabel('Meaning')\nplt.ylabel('Frequency')\n\nplt.show()",
      "metadata": {
        "trusted": true,
        "tags": [],
        "editable": true,
        "slideshow": {
          "slide_type": ""
        }
      },
      "outputs": [],
      "execution_count": null
    },
    {
      "cell_type": "markdown",
      "source": "Конечно, гистограммы можно строить сразу для нескольких категорий. Посмотрим на цены и продажи в зависимости от квартала.\n\n**Задание**: постройте гистограммы для кварталов (столбец MoSold).",
      "metadata": {
        "tags": [],
        "editable": true,
        "slideshow": {
          "slide_type": ""
        }
      }
    },
    {
      "cell_type": "code",
      "source": "df_csv['Quarter'] = (df_csv['MoSold'] - 1) // 3 + 1\n\nplt.figure(figsize=(10, 6))\n\nfor quarter in sorted(df_csv['Quarter'].unique()):\n    plt.hist(df_csv[df_csv['Quarter'] == quarter]['SalePrice'], bins=30, alpha=0.6, label=f'Quarter {quarter}')\n\nplt.title('Histogram for SalePrice by quarter (MoSold)', fontsize=12)\nplt.xlabel('Sale Price', fontsize=12)\nplt.ylabel('Frequency', fontsize=12)\nplt.legend(title='Quarter')\n\nplt.show()",
      "metadata": {
        "trusted": true,
        "tags": [],
        "editable": true,
        "slideshow": {
          "slide_type": ""
        }
      },
      "outputs": [],
      "execution_count": null
    },
    {
      "cell_type": "markdown",
      "source": "**Задание**: Постройте scatterplot через seaborn (scatter) для нескольких пар столбцов из датасета",
      "metadata": {
        "tags": [],
        "editable": true,
        "slideshow": {
          "slide_type": ""
        }
      }
    },
    {
      "cell_type": "code",
      "source": "pairs = [(\"LotFrontage\", \"SalePrice\"), (\"YrSold\", \"SalePrice\"), (\"MoSold\", \"SalePrice\")]\n\nplt.figure(figsize=(12, 8))\n\nfor i, (x_col, y_col) in enumerate(pairs, 1):\n    plt.subplot(2, 2, i)\n    plt.scatter(df_csv[x_col], df_csv[y_col], alpha=0.6)\n    plt.title(f\"Scatter plot: {x_col} vs {y_col}\", fontsize=12)\n    plt.xlabel(x_col, fontsize=10)\n    plt.ylabel(y_col, fontsize=10)\n\nplt.tight_layout()\nplt.show()",
      "metadata": {
        "trusted": true
      },
      "outputs": [],
      "execution_count": null
    },
    {
      "cell_type": "code",
      "source": "df_csv.head()",
      "metadata": {
        "trusted": true
      },
      "outputs": [],
      "execution_count": null
    },
    {
      "cell_type": "markdown",
      "source": "Стиль графиков можно менять, например, поменяв палитру:\n```\nsns.set(style=\"whitegrid\")\nsns.set_palette([\"#89CFF0\", \"#FFB6C1\"])\n```",
      "metadata": {}
    },
    {
      "cell_type": "markdown",
      "source": "Полезно строить графики и для категориальных данных. Например, будет полезно посмотреть на характеристики цены для разных LotShape\n\nПример такого графика: catplot. В зависимости от значения kind то, как точки будут располагаться на осях. Попробуйте не задавать его и задать \"kind\"\n    ",
      "metadata": {}
    },
    {
      "cell_type": "code",
      "source": "sns.catplot(data=df_csv, x=\"LotShape\", y=\"SalePrice\", kind=\"swarm\")",
      "metadata": {
        "trusted": true
      },
      "outputs": [],
      "execution_count": null
    },
    {
      "cell_type": "markdown",
      "source": "**Задание**: Постройте этот график, но добавив еще одно измерение с двумя категорими. Как это сделать? Тоже через hue.",
      "metadata": {}
    },
    {
      "cell_type": "code",
      "source": "plt.figure(figsize=(10, 6))\n\ncategories = df_csv[\"CentralAir\"].unique()\n\nfor category in categories:\n    subset = df_csv[df_csv[\"CentralAir\"] == category]\n    plt.scatter(subset[\"LotShape\"], subset[\"SalePrice\"], label=f'CentralAir: {category}', alpha=0.5)\n\nplt.title(\"Scatter plot: LotShape vs SalePrice with CentralAir as hue\", fontsize=14)\nplt.xlabel(\"LotShape\", fontsize=12)\nplt.ylabel(\"SalePrice\", fontsize=12)\n\nplt.legend(title=\"CentralAir\", fontsize=10)\n\nplt.show()",
      "metadata": {
        "trusted": true
      },
      "outputs": [],
      "execution_count": null
    },
    {
      "cell_type": "markdown",
      "source": "Есть также и более продвинутые методы. Например, можно построить графики зависимости целевой переменной от других столбцов.",
      "metadata": {}
    },
    {
      "cell_type": "code",
      "source": "# Выберем все числовые столбцы из датасета, кроме индекса и цены \nnumeric_col = list(df_csv.select_dtypes(include=['number']).columns)\nnumeric_col.remove(\"Id\")\nnumeric_col.remove(\"SalePrice\")\n\nnum_plots = len(numeric_col)\nnum_columns = 3\nnum_rows = num_plots // num_columns + (1 if num_plots % num_columns > 0 else 0)\n\nplt.figure(figsize=(16, 4 * num_rows))\n\nfor i, col in enumerate(numeric_col):\n    plt.subplot(num_rows, num_columns, i + 1)\n    sns.regplot(x=df_csv[col], y=df_csv[\"SalePrice\"], scatter_kws={'color': '#89CFF0'}, line_kws={'color': '#FFB6C1'})\n    plt.title(f\"{col} vs SalePrice\")\n    plt.xlabel(col)\n    plt.ylabel(\"SalePrice\")\n    \nplt.tight_layout()\nplt.show()",
      "metadata": {
        "trusted": true
      },
      "outputs": [],
      "execution_count": null
    },
    {
      "cell_type": "markdown",
      "source": "Также иногда полезный, а иногда перегруженный график - pairplot. Его можно сделать даже для всего датасета.",
      "metadata": {}
    },
    {
      "cell_type": "markdown",
      "source": "**Задание**: сделайте pairplot для нескольких столбцов датасета. Лучше не выбирать больше 5 за раз!",
      "metadata": {}
    },
    {
      "cell_type": "code",
      "source": "columns = ['SalePrice', 'SaleType', 'MoSold']\n\ndf_sub = df_csv[columns]\n\nn = len(columns)\n\nfig, axes = plt.subplots(n, n, figsize=(15, 15))\n\nfor i in range(n):\n    for j in range(n):\n        ax = axes[i, j]\n        \n        if i == j:\n            ax.hist(df_sub[columns[i]], bins=20, color='skyblue', alpha=0.7)\n            ax.set_xlabel(columns[i])\n            ax.set_ylabel('Frequency')\n        else:\n            ax.scatter(df_sub[columns[j]], df_sub[columns[i]], alpha=0.6)\n            ax.set_xlabel(columns[j])\n            ax.set_ylabel(columns[i])\n\nplt.suptitle('Pairplot для столбцов: SalePrice, SaleType, MoSold', fontsize=16)\n\nplt.tight_layout()\nplt.subplots_adjust(top=0.95)\n\nplt.show()\n",
      "metadata": {
        "trusted": true
      },
      "outputs": [],
      "execution_count": null
    }
  ]
}